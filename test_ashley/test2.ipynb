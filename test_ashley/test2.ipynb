{
 "cells": [
  {
   "cell_type": "markdown",
   "metadata": {},
   "source": [
    "### Import Packages"
   ]
  },
  {
   "cell_type": "code",
   "execution_count": 1,
   "metadata": {},
   "outputs": [],
   "source": [
    "import os\n",
    "import librosa\n",
    "import librosa.display\n",
    "import matplotlib.pyplot as plt\n",
    "import soundfile\n",
    "\n",
    "import torch\n",
    "import torch.nn as nn\n",
    "import torch.nn.functional as F\n",
    "from torch.utils.data import DataLoader, Dataset\n",
    "import torch.optim as optim\n",
    "import numpy as np"
   ]
  },
  {
   "cell_type": "markdown",
   "metadata": {},
   "source": [
    "### Global attributes"
   ]
  },
  {
   "cell_type": "code",
   "execution_count": 2,
   "metadata": {},
   "outputs": [],
   "source": [
    "mixed_dir = \"mixed_data/\"\n",
    "clean_dir = \"clean_data/\""
   ]
  },
  {
   "cell_type": "markdown",
   "metadata": {},
   "source": [
    "### Preprocess Data"
   ]
  },
  {
   "cell_type": "code",
   "execution_count": 3,
   "metadata": {},
   "outputs": [],
   "source": [
    "# MelSpectrogram參數\n",
    "n_mels = 128\n",
    "n_fft = 4096\n",
    "hop_length = n_fft // 2\n",
    "win_length = None \n",
    "sample_rate = 22050\n",
    "f_max = sample_rate // 2"
   ]
  },
  {
   "cell_type": "code",
   "execution_count": null,
   "metadata": {},
   "outputs": [],
   "source": [
    "def load_dataset(mixed_dir, clean_dir):\n",
    "    min_time_length = float('inf')\n",
    "    mixed_mel_spectrograms = []\n",
    "    clean_mel_spectrograms = []\n",
    "\n",
    "    for filename in sorted(os.listdir(mixed_dir)):       \n",
    "        mixed_waveform, sr = librosa.load(''.join([mixed_dir, filename]), sr=None, duration=15)\n",
    "        clean_waveform, sr = librosa.load(''.join([clean_dir, filename]), sr=None, duration=15)\n",
    "\n",
    "        if(filename == \"1034-121119-0049.wav\"):\n",
    "            print(clean_waveform)\n",
    "            librosa.display.waveshow(clean_waveform, sr=sample_rate)\n",
    "            #librosa.display.waveshow(mixed_waveform, sr=sample_rate)\n",
    "        mixed_mel_spectrogram = librosa.feature.melspectrogram(y=mixed_waveform, sr=sample_rate, n_fft=n_fft, hop_length=hop_length, win_length=win_length)\n",
    "        clean_mel_spectrogram = librosa.feature.melspectrogram(y=clean_waveform, sr=sample_rate, n_fft=n_fft, hop_length=hop_length, win_length=win_length)\n",
    "            \n",
    "        # 找最大的頻譜圖長度\n",
    "        min_time_length = min(min_time_length, mixed_mel_spectrogram.shape[-1], clean_mel_spectrogram.shape[-1])\n",
    "        min_time_length = (min_time_length // 8) * 8\n",
    "\n",
    "        mixed_mel_spectrograms.append(mixed_mel_spectrogram)\n",
    "        clean_mel_spectrograms.append(clean_mel_spectrogram)\n",
    "\n",
    "    # 填充所有頻譜圖到相同的長度\n",
    "    mixed_mel_spectrograms = [m[:, :min_time_length] for m in mixed_mel_spectrograms]\n",
    "    clean_mel_spectrograms = [c[:, :min_time_length] for c in clean_mel_spectrograms]\n",
    "    return mixed_mel_spectrograms, clean_mel_spectrograms"
   ]
  },
  {
   "cell_type": "code",
   "execution_count": 5,
   "metadata": {},
   "outputs": [
    {
     "name": "stdout",
     "output_type": "stream",
     "text": [
      "1034-121119-0049.wav\n",
      "[0.0027771  0.00137329 0.00091553 ... 0.00631714 0.00656128 0.0057373 ]\n",
      "1040-133433-0080.wav\n",
      "1081-125237-0053.wav\n",
      "1081-125237-0085.wav\n",
      "1183-133256-0005.wav\n",
      "1246-124550-0005.wav\n",
      "125-121124-0076.wav\n",
      "1334-135589-0002.wav\n",
      "1355-39947-0035.wav\n",
      "1578-140049-0004.wav\n",
      "1624-142933-0019.wav\n",
      "1898-145702-0006.wav\n",
      "19-198-0034.wav\n",
      "196-122150-0032.wav\n",
      "198-126831-0000.wav\n",
      "200-126784-0026.wav\n",
      "2002-139469-0093.wav\n",
      "2007-132570-0059.wav\n",
      "2092-145706-0067.wav\n",
      "2136-5143-0025.wav\n",
      "2136-5143-0028.wav\n",
      "2159-179156-0013.wav\n",
      "2182-150130-0028.wav\n",
      "2182-181173-0033.wav\n",
      "226-131532-0003.wav\n",
      "226-131533-0002.wav\n",
      "2416-152139-0041.wav\n",
      "2514-149482-0005.wav\n",
      "2514-149482-0033.wav\n",
      "2518-154826-0030.wav\n",
      "2691-156755-0035.wav\n",
      "2893-139322-0043.wav\n",
      "2952-407-0002.wav\n",
      "2952-410-0047.wav\n",
      "298-126790-0038.wav\n",
      "298-126791-0067.wav\n",
      "2989-138035-0043.wav\n",
      "302-123523-0025.wav\n",
      "307-127535-0005.wav\n",
      "3112-9555-0084.wav\n",
      "3242-67153-0004.wav\n",
      "3259-158083-0089.wav\n",
      "332-128985-0073.wav\n",
      "3374-298025-0000.wav\n",
      "3374-298025-0010.wav\n",
      "3374-298025-0019.wav\n",
      "3440-171009-0005.wav\n",
      "3699-19402-0012.wav\n",
      "3723-171115-0013.wav\n",
      "3807-4955-0016.wav\n",
      "3807-4955-0022.wav\n",
      "3982-182255-0009.wav\n",
      "4014-186175-0012.wav\n",
      "4088-158079-0000.wav\n",
      "4214-7146-0015.wav\n",
      "4297-13006-0006.wav\n",
      "4362-15663-0032.wav\n",
      "4406-16883-0021.wav\n",
      "4640-19189-0001.wav\n",
      "4640-19189-0021.wav\n",
      "4788-294466-0008.wav\n",
      "4788-91208-0013.wav\n",
      "4830-25904-0041.wav\n",
      "4859-26870-0018.wav\n",
      "5049-25947-0037.wav\n",
      "5104-33407-0025.wav\n",
      "5339-14134-0031.wav\n",
      "5390-30096-0025.wav\n",
      "5808-54425-0016.wav\n",
      "6272-70171-0025.wav\n",
      "6437-66173-0052.wav\n",
      "6836-61803-0026.wav\n",
      "6848-252323-0012.wav\n",
      "6848-252323-0032.wav\n",
      "7059-88364-0015.wav\n",
      "7113-86041-0082.wav\n",
      "7178-34644-0000.wav\n",
      "7264-92314-0002.wav\n",
      "7264-92314-0024.wav\n",
      "730-358-0037.wav\n",
      "730-358-0061.wav\n",
      "730-359-0047.wav\n",
      "7505-258958-0002.wav\n",
      "7505-83618-0023.wav\n",
      "7859-102518-0015.wav\n",
      "7859-102521-0017.wav\n",
      "8063-274115-0002.wav\n",
      "8226-274369-0052.wav\n",
      "8238-274553-0057.wav\n",
      "83-11691-0028.wav\n",
      "83-11691-0035.wav\n",
      "839-130898-0069.wav\n"
     ]
    },
    {
     "ename": "KeyboardInterrupt",
     "evalue": "",
     "output_type": "error",
     "traceback": [
      "\u001b[1;31m---------------------------------------------------------------------------\u001b[0m",
      "\u001b[1;31mKeyboardInterrupt\u001b[0m                         Traceback (most recent call last)",
      "Cell \u001b[1;32mIn[5], line 1\u001b[0m\n\u001b[1;32m----> 1\u001b[0m mixed_mel_spectrograms_list, clean_mel_spectrograms_list \u001b[38;5;241m=\u001b[39m \u001b[43mload_dataset\u001b[49m\u001b[43m(\u001b[49m\u001b[43mmixed_dir\u001b[49m\u001b[43m,\u001b[49m\u001b[43m \u001b[49m\u001b[43mclean_dir\u001b[49m\u001b[43m)\u001b[49m\n\u001b[0;32m      3\u001b[0m \u001b[38;5;66;03m# reshape the shape to fit pytorch\u001b[39;00m\n\u001b[0;32m      4\u001b[0m \u001b[38;5;66;03m# mixed_mel_spectrograms = torch.FloatTensor(mixed_mel_spectrograms_list)\u001b[39;00m\n\u001b[0;32m      5\u001b[0m \u001b[38;5;66;03m# clean_mel_spectrograms = torch.FloatTensor(clean_mel_spectrograms_list)\u001b[39;00m\n\u001b[1;32m   (...)\u001b[0m\n\u001b[0;32m     11\u001b[0m \n\u001b[0;32m     12\u001b[0m \u001b[38;5;66;03m# change to log scale\u001b[39;00m\n\u001b[0;32m     13\u001b[0m mixed_mel_spectrograms_db \u001b[38;5;241m=\u001b[39m librosa\u001b[38;5;241m.\u001b[39mpower_to_db(mixed_mel_spectrograms_list, ref\u001b[38;5;241m=\u001b[39mnp\u001b[38;5;241m.\u001b[39mmax)\n",
      "Cell \u001b[1;32mIn[4], line 17\u001b[0m, in \u001b[0;36mload_dataset\u001b[1;34m(mixed_dir, clean_dir)\u001b[0m\n\u001b[0;32m     15\u001b[0m     \u001b[38;5;66;03m#librosa.display.waveshow(mixed_waveform, sr=sample_rate)\u001b[39;00m\n\u001b[0;32m     16\u001b[0m mixed_mel_spectrogram \u001b[38;5;241m=\u001b[39m librosa\u001b[38;5;241m.\u001b[39mfeature\u001b[38;5;241m.\u001b[39mmelspectrogram(y\u001b[38;5;241m=\u001b[39mmixed_waveform, sr\u001b[38;5;241m=\u001b[39msample_rate, n_fft\u001b[38;5;241m=\u001b[39mn_fft, hop_length\u001b[38;5;241m=\u001b[39mhop_length, win_length\u001b[38;5;241m=\u001b[39mwin_length)\n\u001b[1;32m---> 17\u001b[0m clean_mel_spectrogram \u001b[38;5;241m=\u001b[39m \u001b[43mlibrosa\u001b[49m\u001b[38;5;241;43m.\u001b[39;49m\u001b[43mfeature\u001b[49m\u001b[38;5;241;43m.\u001b[39;49m\u001b[43mmelspectrogram\u001b[49m\u001b[43m(\u001b[49m\u001b[43my\u001b[49m\u001b[38;5;241;43m=\u001b[39;49m\u001b[43mclean_waveform\u001b[49m\u001b[43m,\u001b[49m\u001b[43m \u001b[49m\u001b[43msr\u001b[49m\u001b[38;5;241;43m=\u001b[39;49m\u001b[43msample_rate\u001b[49m\u001b[43m,\u001b[49m\u001b[43m \u001b[49m\u001b[43mn_fft\u001b[49m\u001b[38;5;241;43m=\u001b[39;49m\u001b[43mn_fft\u001b[49m\u001b[43m,\u001b[49m\u001b[43m \u001b[49m\u001b[43mhop_length\u001b[49m\u001b[38;5;241;43m=\u001b[39;49m\u001b[43mhop_length\u001b[49m\u001b[43m,\u001b[49m\u001b[43m \u001b[49m\u001b[43mwin_length\u001b[49m\u001b[38;5;241;43m=\u001b[39;49m\u001b[43mwin_length\u001b[49m\u001b[43m)\u001b[49m\n\u001b[0;32m     19\u001b[0m \u001b[38;5;66;03m# 找最大的頻譜圖長度\u001b[39;00m\n\u001b[0;32m     20\u001b[0m min_time_length \u001b[38;5;241m=\u001b[39m \u001b[38;5;28mmin\u001b[39m(min_time_length, mixed_mel_spectrogram\u001b[38;5;241m.\u001b[39mshape[\u001b[38;5;241m-\u001b[39m\u001b[38;5;241m1\u001b[39m], clean_mel_spectrogram\u001b[38;5;241m.\u001b[39mshape[\u001b[38;5;241m-\u001b[39m\u001b[38;5;241m1\u001b[39m])\n",
      "File \u001b[1;32m~\\AppData\\Local\\Packages\\PythonSoftwareFoundation.Python.3.11_qbz5n2kfra8p0\\LocalCache\\local-packages\\Python311\\site-packages\\librosa\\feature\\spectral.py:2143\u001b[0m, in \u001b[0;36mmelspectrogram\u001b[1;34m(y, sr, S, n_fft, hop_length, win_length, window, center, pad_mode, power, **kwargs)\u001b[0m\n\u001b[0;32m   2130\u001b[0m S, n_fft \u001b[38;5;241m=\u001b[39m _spectrogram(\n\u001b[0;32m   2131\u001b[0m     y\u001b[38;5;241m=\u001b[39my,\n\u001b[0;32m   2132\u001b[0m     S\u001b[38;5;241m=\u001b[39mS,\n\u001b[1;32m   (...)\u001b[0m\n\u001b[0;32m   2139\u001b[0m     pad_mode\u001b[38;5;241m=\u001b[39mpad_mode,\n\u001b[0;32m   2140\u001b[0m )\n\u001b[0;32m   2142\u001b[0m \u001b[38;5;66;03m# Build a Mel filter\u001b[39;00m\n\u001b[1;32m-> 2143\u001b[0m mel_basis \u001b[38;5;241m=\u001b[39m \u001b[43mfilters\u001b[49m\u001b[38;5;241;43m.\u001b[39;49m\u001b[43mmel\u001b[49m\u001b[43m(\u001b[49m\u001b[43msr\u001b[49m\u001b[38;5;241;43m=\u001b[39;49m\u001b[43msr\u001b[49m\u001b[43m,\u001b[49m\u001b[43m \u001b[49m\u001b[43mn_fft\u001b[49m\u001b[38;5;241;43m=\u001b[39;49m\u001b[43mn_fft\u001b[49m\u001b[43m,\u001b[49m\u001b[43m \u001b[49m\u001b[38;5;241;43m*\u001b[39;49m\u001b[38;5;241;43m*\u001b[39;49m\u001b[43mkwargs\u001b[49m\u001b[43m)\u001b[49m\n\u001b[0;32m   2145\u001b[0m melspec: np\u001b[38;5;241m.\u001b[39mndarray \u001b[38;5;241m=\u001b[39m np\u001b[38;5;241m.\u001b[39meinsum(\u001b[38;5;124m\"\u001b[39m\u001b[38;5;124m...ft,mf->...mt\u001b[39m\u001b[38;5;124m\"\u001b[39m, S, mel_basis, optimize\u001b[38;5;241m=\u001b[39m\u001b[38;5;28;01mTrue\u001b[39;00m)\n\u001b[0;32m   2146\u001b[0m \u001b[38;5;28;01mreturn\u001b[39;00m melspec\n",
      "File \u001b[1;32m~\\AppData\\Local\\Packages\\PythonSoftwareFoundation.Python.3.11_qbz5n2kfra8p0\\LocalCache\\local-packages\\Python311\\site-packages\\librosa\\filters.py:239\u001b[0m, in \u001b[0;36mmel\u001b[1;34m(sr, n_fft, n_mels, fmin, fmax, htk, norm, dtype)\u001b[0m\n\u001b[0;32m    236\u001b[0m     upper \u001b[38;5;241m=\u001b[39m ramps[i \u001b[38;5;241m+\u001b[39m \u001b[38;5;241m2\u001b[39m] \u001b[38;5;241m/\u001b[39m fdiff[i \u001b[38;5;241m+\u001b[39m \u001b[38;5;241m1\u001b[39m]\n\u001b[0;32m    238\u001b[0m     \u001b[38;5;66;03m# .. then intersect them with each other and zero\u001b[39;00m\n\u001b[1;32m--> 239\u001b[0m     weights[i] \u001b[38;5;241m=\u001b[39m np\u001b[38;5;241m.\u001b[39mmaximum(\u001b[38;5;241m0\u001b[39m, np\u001b[38;5;241m.\u001b[39mminimum(lower, upper))\n\u001b[0;32m    241\u001b[0m \u001b[38;5;28;01mif\u001b[39;00m \u001b[38;5;28misinstance\u001b[39m(norm, \u001b[38;5;28mstr\u001b[39m):\n\u001b[0;32m    242\u001b[0m     \u001b[38;5;28;01mif\u001b[39;00m norm \u001b[38;5;241m==\u001b[39m \u001b[38;5;124m\"\u001b[39m\u001b[38;5;124mslaney\u001b[39m\u001b[38;5;124m\"\u001b[39m:\n\u001b[0;32m    243\u001b[0m         \u001b[38;5;66;03m# Slaney-style mel is scaled to be approx constant energy per channel\u001b[39;00m\n",
      "\u001b[1;31mKeyboardInterrupt\u001b[0m: "
     ]
    },
    {
     "data": {
      "image/png": "[encoded data removed]",
      "text/plain": [
       "<Figure size 640x480 with 1 Axes>"
      ]
     },
     "metadata": {},
     "output_type": "display_data"
    }
   ],
   "source": [
    "mixed_mel_spectrograms_list, clean_mel_spectrograms_list = load_dataset(mixed_dir, clean_dir)\n",
    "\n",
    "# reshape the shape to fit pytorch\n",
    "# mixed_mel_spectrograms = torch.FloatTensor(mixed_mel_spectrograms_list)\n",
    "# clean_mel_spectrograms = torch.FloatTensor(clean_mel_spectrograms_list)\n",
    "# print(mixed_mel_spectrograms.dtype)\n",
    "# print(mixed_mel_spectrograms.shape)\n",
    "\n",
    "# mixed_mel_spectrograms = [mel.unsqueeze(0) for mel in mixed_mel_spectrograms]\n",
    "# clean_mel_spectrograms = [mel.unsqueeze(0) for mel in clean_mel_spectrograms]\n",
    "\n",
    "# change to log scale\n",
    "mixed_mel_spectrograms_db = librosa.power_to_db(mixed_mel_spectrograms_list, ref=np.max)\n",
    "clean_mel_spectrograms_db = librosa.power_to_db(clean_mel_spectrograms_list, ref=np.max)\n",
    "\n",
    "# change to tensor\n",
    "mixed_mel_spectrograms = [torch.FloatTensor(mel).unsqueeze(0) for mel in mixed_mel_spectrograms_list]\n",
    "clean_mel_spectrograms = [torch.FloatTensor(mel).unsqueeze(0) for mel in clean_mel_spectrograms_list]\n",
    "\n",
    "\n",
    "# 打印第一個 Mel 頻譜圖\n",
    "\n",
    "# print(mixed_mel_spectrograms[0].dtype)\n",
    "# print(mixed_mel_spectrograms[0].shape)\n",
    "# print(mixed_mel_spectrograms[0])\n",
    "# print(clean_mel_spectrograms[0].dtype)\n",
    "# print(clean_mel_spectrograms[0].shape)\n",
    "# print(clean_mel_spectrograms[0])\n",
    "\n",
    "fig, ax = plt.subplots()\n",
    "img = librosa.display.specshow(mixed_mel_spectrograms_db[0], sr=sample_rate, x_axis='time', y_axis='mel', ax=ax)\n",
    "fig.colorbar(img, ax=ax, format='%+2.0f dB')\n",
    "ax.set(title='Mel-frequency spectrogram')"
   ]
  },
  {
   "cell_type": "markdown",
   "metadata": {},
   "source": [
    "### Training"
   ]
  },
  {
   "cell_type": "code",
   "execution_count": null,
   "metadata": {},
   "outputs": [],
   "source": [
    "class DenoiseAutoencoder(nn.Module):\n",
    "    def __init__(self):\n",
    "        super(DenoiseAutoencoder, self).__init__()\n",
    "        # 編碼器\n",
    "        self.encoder = nn.Sequential(\n",
    "            nn.Conv2d(1, 16, kernel_size=3, stride=2, padding=1), \n",
    "            nn.ReLU(),\n",
    "            nn.Conv2d(16, 32, kernel_size=3, stride=2, padding=1),\n",
    "            nn.ReLU(),\n",
    "            nn.Conv2d(32, 64, kernel_size=3, stride=2, padding=1),\n",
    "            nn.ReLU()\n",
    "        )\n",
    "        # 解碼器\n",
    "        self.decoder = nn.Sequential(\n",
    "            nn.ConvTranspose2d(64, 32, kernel_size=3, stride=2, padding=1, output_padding=1),\n",
    "            nn.ReLU(),\n",
    "            nn.ConvTranspose2d(32, 16, kernel_size=3, stride=2, padding=1, output_padding=1),\n",
    "            nn.ReLU(),\n",
    "            nn.ConvTranspose2d(16, 1, kernel_size=3, stride=2, padding=1, output_padding=1),\n",
    "            # nn.\n",
    "        )\n",
    "        \n",
    "    def forward(self, x):\n",
    "        x = self.encoder(x)\n",
    "        x = self.decoder(x)\n",
    "        return x\n"
   ]
  },
  {
   "cell_type": "code",
   "execution_count": null,
   "metadata": {},
   "outputs": [],
   "source": [
    "# Model參數\n",
    "num_epochs = 25\n",
    "batch_size = 32\n",
    "learning_rate = 0.001"
   ]
  },
  {
   "cell_type": "code",
   "execution_count": null,
   "metadata": {},
   "outputs": [],
   "source": [
    "class AudioDataset(Dataset):\n",
    "    def __init__(self, mixed_data, clean_data):\n",
    "        self.mixed = mixed_data\n",
    "        self.clean = clean_data\n",
    "    \n",
    "    def __len__(self):\n",
    "        return len(self.mixed)\n",
    "    \n",
    "    def __getitem__(self, idx):\n",
    "        return self.mixed[idx], self.clean[idx]\n",
    "\n",
    "dataset = AudioDataset(mixed_mel_spectrograms, clean_mel_spectrograms)\n",
    "dataloader = DataLoader(dataset, batch_size=batch_size)\n"
   ]
  },
  {
   "cell_type": "code",
   "execution_count": null,
   "metadata": {},
   "outputs": [],
   "source": [
    "# 初始化模型、損失函數和優化器\n",
    "model = DenoiseAutoencoder()\n",
    "criterion = nn.MSELoss()\n",
    "optimizer = optim.Adam(model.parameters(), lr=learning_rate)\n",
    "\n",
    "# 訓練過程\n",
    "for epoch in range(num_epochs):\n",
    "    model.train()\n",
    "    for (mixed, clean) in dataloader:\n",
    "        \n",
    "        optimizer.zero_grad()\n",
    "\n",
    "        # 前向傳播\n",
    "        outputs = model(mixed)\n",
    "        # print(mixed[0])\n",
    "        # print(clean)\n",
    "        loss = criterion(outputs, clean)\n",
    "            \n",
    "        # 反向傳播和優化\n",
    "        loss.backward()\n",
    "        optimizer.step()\n",
    "    \n",
    "    print(f'Epoch [{epoch+1}/{num_epochs}], Loss: {loss.item():.4f}')"
   ]
  },
  {
   "cell_type": "markdown",
   "metadata": {},
   "source": [
    "### Prediction"
   ]
  },
  {
   "cell_type": "code",
   "execution_count": null,
   "metadata": {},
   "outputs": [],
   "source": [
    "# print(mixed_mel_spectrograms[0].shape)\n",
    "# print(mixed_mel_spectrograms[0].dtype)\n",
    "\n",
    "# 应用模型\n",
    "model.eval()  # 设置模型为评估模式\n",
    "# test_waveform, sr = librosa.load(\"mixed_data/8975-270782-0032.wav\")\n",
    "# test_mel_spectrogram = librosa.feature.melspectrogram(y=test_waveform, sr=sample_rate)\n",
    "waveform, sample_rate = librosa.load(\"clean_data/1034-121119-0049.wav\")\n",
    "# librosa.display.waveshow(waveform, sr=sample_rate)\n",
    "# librosa.display.waveshow(mixed_mel_spectrograms_db[0], sr=sample_rate)\n",
    "\n",
    "denoised_output = model(mixed_mel_spectrograms[0])  # 添加批次和通道维度\n",
    "print(waveform)\n",
    "\n",
    "print(\"去噪后的输出形状:\", denoised_output.shape)\n",
    "print(denoised_output)\n",
    "# tensor to list\n",
    "# denoised_output = (denoised_output.squeeze(0)).tolist()\n",
    "# print(denoised_output.shape)\n",
    "# print(denoised_output.dtype)\n",
    "# denoised_output = denoised_output.detach().cpu().numpy()\n",
    "denoised_output = denoised_output.squeeze().detach().numpy()\n",
    "print(denoised_output)\n",
    "# denoised_output = librosa.db_to_power(denoised_output)\n",
    "# print(denoised_output.shape)\n",
    "# print(denoised_output.dtype)\n",
    "# denoised_output = denoised_output.squeeze(0)\n",
    "# print(denoised_output)\n",
    "# print(denoised_output.shape)\n",
    "# print(denoised_output.dtype)\n",
    "\n",
    "audio_signal = librosa.feature.inverse.mel_to_audio(denoised_output, sr=sample_rate)\n",
    "# print(audio_signal.shape)\n",
    "# print(audio_signal.dtype)\n",
    "# print(audio_signal)\n",
    "librosa.display.waveshow(audio_signal, sr=sample_rate)\n",
    "\n",
    "soundfile.write('test.wav', audio_signal, sample_rate)\n"
   ]
  }
 ],
 "metadata": {
  "kernelspec": {
   "display_name": "Python 3",
   "language": "python",
   "name": "python3"
  },
  "language_info": {
   "codemirror_mode": {
    "name": "ipython",
    "version": 3
   },
   "file_extension": ".py",
   "mimetype": "text/x-python",
   "name": "python",
   "nbconvert_exporter": "python",
   "pygments_lexer": "ipython3",
   "version": "3.11.9"
  }
 },
 "nbformat": 4,
 "nbformat_minor": 2
}
