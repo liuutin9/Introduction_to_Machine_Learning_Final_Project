{
 "cells": [
  {
   "cell_type": "markdown",
   "metadata": {},
   "source": [
    "### Import Packages"
   ]
  },
  {
   "cell_type": "code",
   "execution_count": 78,
   "metadata": {},
   "outputs": [],
   "source": [
    "import os\n",
    "import librosa\n",
    "import librosa.display\n",
    "import matplotlib.pyplot as plt\n",
    "import soundfile\n",
    "from sklearn.model_selection import train_test_split\n",
    "import torch\n",
    "import torch.nn as nn\n",
    "import torch.nn.functional as F\n",
    "import torchaudio.transforms as T\n",
    "from torch.utils.data import DataLoader, Dataset\n",
    "import torch.optim as optim\n",
    "import numpy as np\n",
    "import torchsummary\n",
    "from alive_progress import alive_bar"
   ]
  },
  {
   "cell_type": "markdown",
   "metadata": {},
   "source": [
    "### Global attributes"
   ]
  },
  {
   "cell_type": "code",
   "execution_count": 79,
   "metadata": {},
   "outputs": [],
   "source": [
    "# mixed_dir = \"../mixed_data/\"\n",
    "# clean_dir = \"../clean_data/\"\n",
    "# nature_mixed_dir = \"../classified_sound_1115/nature/mixed/\"\n",
    "# nature_clean_dir = \"../classified_sound_1115/nature/clean/\""
   ]
  },
  {
   "cell_type": "markdown",
   "metadata": {},
   "source": [
    "### Preprocess Data"
   ]
  },
  {
   "cell_type": "code",
   "execution_count": 80,
   "metadata": {},
   "outputs": [],
   "source": [
    "# MelSpectrogram參數\n",
    "n_mels = 128                # 保持 Mel 頻譜圖的解析度\n",
    "n_fft = 1024                # 提高 FFT 窗口大小以適配更多信號頻率\n",
    "hop_length = 512            # 保持 hop_length 為 n_fft 的一半\n",
    "win_length = 1024           # 窗口大小與 n_fft 保持一致（或設為 None 使用默認值）\n",
    "sample_rate = 16000         # 採樣率保持不變，適合語音處理\n",
    "f_max = sample_rate // 2    # 預設為 Nyquist 頻率，即 8000 Hz\n",
    "duration = 5                # 音頻時長為 5 秒"
   ]
  },
  {
   "cell_type": "code",
   "execution_count": 81,
   "metadata": {},
   "outputs": [],
   "source": [
    "def load_spectrogram_from_npy(mixed_dir, clean_dir):\n",
    "    \"\"\"Load mel spectrogram from a NumPy file.\"\"\"\n",
    "    mixed_mel_spectrograms = []\n",
    "    clean_mel_spectrograms = []\n",
    "    \n",
    "    length = len(os.listdir(clean_dir))\n",
    "    \n",
    "    # print(f\"Loading {length} files...\")\n",
    "\n",
    "    with alive_bar(length, force_tty=True) as bar:\n",
    "        for filename in sorted(os.listdir(clean_dir)):\n",
    "            if \".gitkeep\" in filename:\n",
    "                continue\n",
    "            try:\n",
    "                # 使用完整路徑\n",
    "                mixed_path = os.path.join(mixed_dir, filename)\n",
    "                clean_path = os.path.join(clean_dir, filename)\n",
    "                \n",
    "                mixed_mel_spectrogram_db = np.load(mixed_path)\n",
    "                clean_mel_spectrogram_db = np.load(clean_path)\n",
    "\n",
    "                # # 轉換為 PyTorch tensor 並添加通道維度\n",
    "                mixed_mel_tensor = torch.tensor(mixed_mel_spectrogram_db, dtype=torch.float32).squeeze().unsqueeze(0)\n",
    "                clean_mel_tensor = torch.tensor(clean_mel_spectrogram_db, dtype=torch.float32).squeeze().unsqueeze(0)\n",
    "                \n",
    "                mixed_mel_spectrograms.append(mixed_mel_tensor)\n",
    "                clean_mel_spectrograms.append(clean_mel_tensor)\n",
    "                \n",
    "                bar()\n",
    "                \n",
    "            except Exception as e:\n",
    "                print(f\"Error load file {filename}: {str(e)}\")\n",
    "                continue\n",
    "\n",
    "    return mixed_mel_spectrograms, clean_mel_spectrograms"
   ]
  },
  {
   "cell_type": "code",
   "execution_count": 82,
   "metadata": {},
   "outputs": [
    {
     "name": "stdout",
     "output_type": "stream",
     "text": [
      "|████████████████████████████████████████| 7500/7500 [100%] in 3.2s (2349.99/s)  ▄▆█ 5129/7500 [68%] in 2s (~1s, 2633. ▇▇▅ 6179/7500 [82%] in 2s (~1s, 2491.\n",
      "|████████████████████████████████████████| 7500/7500 [100%] in 3.7s (2041.97/s)  ▆█▆ 3692/7500 [49%] in 2s (~2s, 1951.\n",
      "|████████████████████████████████████████| 7500/7500 [100%] in 3.6s (2081.42/s) \n"
     ]
    }
   ],
   "source": [
    "machine_mixed_mel_spectrograms, machine_clean_mel_spectrograms = load_spectrogram_from_npy(\"../machine/mixed/\", \"../machine/clean/\")\n",
    "nature_mixed_mel_spectrograms, nature_clean_mel_spectrograms = load_spectrogram_from_npy(\"../nature/mixed/\", \"../nature/clean/\")\n",
    "human_mixed_mel_spectrograms, human_clean_mel_spectrograms = load_spectrogram_from_npy(\"../human/mixed/\", \"../human/clean/\")\n",
    "mixed_mel_spectrograms = machine_mixed_mel_spectrograms + nature_mixed_mel_spectrograms + human_mixed_mel_spectrograms\n",
    "clean_mel_spectrograms = machine_clean_mel_spectrograms + nature_clean_mel_spectrograms + human_clean_mel_spectrograms\n",
    "target_dim = 160\n",
    "pad_width = [(0, 0), (0, 0), (0, target_dim - mixed_mel_spectrograms[0].shape[2])]\n",
    "mixed_mel_spectrograms = [np.pad(i, pad_width=pad_width, mode='constant', constant_values=0) for i in mixed_mel_spectrograms]\n",
    "clean_mel_spectrograms = [np.pad(i, pad_width=pad_width, mode='constant', constant_values=0) for i in clean_mel_spectrograms]\n",
    "mixed_mel_spectrograms_train, mixed_mel_spectrograms_val, clean_mel_spectrograms_train, clean_mel_spectrograms_val = train_test_split(mixed_mel_spectrograms, clean_mel_spectrograms, test_size=0.2, random_state=42)\n",
    "time_steps = mixed_mel_spectrograms[0].shape[2]"
   ]
  },
  {
   "cell_type": "code",
   "execution_count": 83,
   "metadata": {},
   "outputs": [
    {
     "name": "stdout",
     "output_type": "stream",
     "text": [
      "X shape = (1, 128, 160)\n"
     ]
    }
   ],
   "source": [
    "print(f'X shape = {mixed_mel_spectrograms[0].shape}')"
   ]
  },
  {
   "cell_type": "markdown",
   "metadata": {},
   "source": [
    "### Training"
   ]
  },
  {
   "cell_type": "code",
   "execution_count": 88,
   "metadata": {},
   "outputs": [],
   "source": [
    "class DenoiseAutoencoder(nn.Module):\n",
    "    def __init__(self):\n",
    "        super(DenoiseAutoencoder, self).__init__()\n",
    "        # 編碼器\n",
    "        self.encoder = nn.Sequential(\n",
    "            nn.Conv2d(1, 16, kernel_size=3, stride=2, padding=1),\n",
    "            nn.BatchNorm2d(16),\n",
    "            nn.ReLU(),\n",
    "            nn.Conv2d(16, 32, kernel_size=3, stride=2, padding=1),\n",
    "            nn.BatchNorm2d(32),\n",
    "            nn.ReLU(),\n",
    "            nn.Conv2d(32, 64, kernel_size=3, stride=2, padding=1),\n",
    "            nn.BatchNorm2d(64),\n",
    "            nn.ReLU(),\n",
    "            nn.Conv2d(64, 128, kernel_size=3, stride=2, padding=1),\n",
    "            nn.BatchNorm2d(128),\n",
    "            nn.ReLU(),\n",
    "        )\n",
    "\n",
    "        # 全連接層 ### shape 有問題\n",
    "        self.fc1 = nn.Linear(10240, 256)  # 假設輸入大小為 (1, 64, 64)\n",
    "        self.fc2 = nn.Linear(256, 10240)\n",
    "\n",
    "        # 解碼器\n",
    "        self.decoder = nn.Sequential(\n",
    "            nn.ConvTranspose2d(128, 64, kernel_size=3, stride=2, padding=1, output_padding=1),\n",
    "            nn.BatchNorm2d(64),\n",
    "            nn.ReLU(),\n",
    "            nn.ConvTranspose2d(64, 32, kernel_size=3, stride=2, padding=1, output_padding=1),\n",
    "            nn.BatchNorm2d(32),\n",
    "            nn.ReLU(),\n",
    "            nn.ConvTranspose2d(32, 16, kernel_size=3, stride=2, padding=1, output_padding=1),\n",
    "            nn.BatchNorm2d(16),\n",
    "            nn.ReLU(),\n",
    "            nn.ConvTranspose2d(16, 1, kernel_size=3, stride=2, padding=1, output_padding=1),\n",
    "            nn.BatchNorm2d(1),\n",
    "        )\n",
    "\n",
    "    def forward(self, x):\n",
    "        # 編碼器\n",
    "        x = self.encoder(x)\n",
    "        \n",
    "        # 將特徵展平\n",
    "        batch_size = x.size(0)\n",
    "        x = x.view(batch_size, -1)\n",
    "        \n",
    "        # 全連接層處理\n",
    "        x = self.fc1(x)\n",
    "        x = self.fc2(x)\n",
    "        \n",
    "        # 恢復形狀為解碼器輸入\n",
    "        x = x.view(batch_size, 128, 8, 10)\n",
    "        # 解碼器\n",
    "        x = self.decoder(x)\n",
    "        return x"
   ]
  },
  {
   "cell_type": "code",
   "execution_count": 89,
   "metadata": {},
   "outputs": [],
   "source": [
    "# Model參數\n",
    "num_epochs = 100\n",
    "batch_size = 256\n",
    "learning_rate = 0.5\n",
    "lr_decay_step = 20\n",
    "lr_decay_gamma = 0.6"
   ]
  },
  {
   "cell_type": "code",
   "execution_count": 90,
   "metadata": {},
   "outputs": [],
   "source": [
    "class AudioDataset(Dataset):\n",
    "    def __init__(self, mixed_data, clean_data):\n",
    "        self.mixed = mixed_data\n",
    "        self.clean = clean_data\n",
    "    \n",
    "    def __len__(self):\n",
    "        return len(self.mixed)\n",
    "    \n",
    "    def __getitem__(self, idx):\n",
    "        return self.mixed[idx], self.clean[idx]\n",
    "\n",
    "dataset = AudioDataset(mixed_mel_spectrograms_train, clean_mel_spectrograms_train)\n",
    "dataloader = DataLoader(dataset, batch_size=batch_size)\n",
    "dataloader_val = DataLoader(AudioDataset(mixed_mel_spectrograms_val, clean_mel_spectrograms_val), batch_size=len(mixed_mel_spectrograms_val))\n"
   ]
  },
  {
   "cell_type": "code",
   "execution_count": 91,
   "metadata": {},
   "outputs": [
    {
     "name": "stdout",
     "output_type": "stream",
     "text": [
      "Epoch [1/100], Training Loss: 690.580139160156, Validation Loss: 658.416076660156, Learning Rate: 0.50000000\n",
      "Epoch [2/100], Training Loss: 196.556579589844, Validation Loss: 187.800872802734, Learning Rate: 0.50000000\n",
      "Epoch [3/100], Training Loss: 123.635963439941, Validation Loss: 119.968902587891, Learning Rate: 0.50000000\n",
      "Epoch [4/100], Training Loss: 85.886680603027, Validation Loss: 80.726646423340, Learning Rate: 0.50000000\n",
      "Epoch [5/100], Training Loss: 54.086898803711, Validation Loss: 52.552959442139, Learning Rate: 0.50000000\n",
      "Epoch [6/100], Training Loss: 40.285518646240, Validation Loss: 40.114002227783, Learning Rate: 0.50000000\n",
      "Epoch [7/100], Training Loss: 32.681915283203, Validation Loss: 32.860279083252, Learning Rate: 0.50000000\n",
      "Epoch [8/100], Training Loss: 28.329448699951, Validation Loss: 28.815174102783, Learning Rate: 0.50000000\n",
      "Epoch [9/100], Training Loss: 25.359399795532, Validation Loss: 25.608535766602, Learning Rate: 0.50000000\n",
      "Epoch [10/100], Training Loss: 22.529123306274, Validation Loss: 23.028423309326, Learning Rate: 0.50000000\n",
      "Epoch [11/100], Training Loss: 20.716781616211, Validation Loss: 21.249610900879, Learning Rate: 0.50000000\n",
      "Epoch [12/100], Training Loss: 19.186538696289, Validation Loss: 19.918321609497, Learning Rate: 0.50000000\n",
      "Epoch [13/100], Training Loss: 18.134866714478, Validation Loss: 18.761457443237, Learning Rate: 0.50000000\n",
      "Epoch [14/100], Training Loss: 17.386865615845, Validation Loss: 18.229333877563, Learning Rate: 0.50000000\n",
      "Epoch [15/100], Training Loss: 16.651853561401, Validation Loss: 17.544404983521, Learning Rate: 0.50000000\n",
      "Epoch [16/100], Training Loss: 15.911682128906, Validation Loss: 16.868438720703, Learning Rate: 0.50000000\n",
      "Epoch [17/100], Training Loss: 15.303662300110, Validation Loss: 15.937055587769, Learning Rate: 0.50000000\n",
      "Epoch [18/100], Training Loss: 14.658297538757, Validation Loss: 15.383899688721, Learning Rate: 0.50000000\n",
      "Epoch [19/100], Training Loss: 14.109252929688, Validation Loss: 14.969704627991, Learning Rate: 0.50000000\n",
      "Epoch [20/100], Training Loss: 13.749965667725, Validation Loss: 14.503133773804, Learning Rate: 0.30000000\n",
      "Epoch [21/100], Training Loss: 13.204549789429, Validation Loss: 13.763144493103, Learning Rate: 0.30000000\n",
      "Epoch [22/100], Training Loss: 12.905831336975, Validation Loss: 13.466388702393, Learning Rate: 0.30000000\n",
      "Epoch [23/100], Training Loss: 12.629347801208, Validation Loss: 13.234355926514, Learning Rate: 0.30000000\n",
      "Epoch [24/100], Training Loss: 12.351479530334, Validation Loss: 13.030387878418, Learning Rate: 0.30000000\n",
      "Epoch [25/100], Training Loss: 12.128344535828, Validation Loss: 12.832080841064, Learning Rate: 0.30000000\n",
      "Epoch [26/100], Training Loss: 11.920989036560, Validation Loss: 12.662702560425, Learning Rate: 0.30000000\n",
      "Epoch [27/100], Training Loss: 11.731999397278, Validation Loss: 12.508843421936, Learning Rate: 0.30000000\n",
      "Epoch [28/100], Training Loss: 11.526176452637, Validation Loss: 12.342681884766, Learning Rate: 0.30000000\n",
      "Epoch [29/100], Training Loss: 11.324219703674, Validation Loss: 12.175769805908, Learning Rate: 0.30000000\n",
      "Epoch [30/100], Training Loss: 11.145873069763, Validation Loss: 12.006165504456, Learning Rate: 0.30000000\n",
      "Epoch [31/100], Training Loss: 10.993293762207, Validation Loss: 11.855905532837, Learning Rate: 0.30000000\n",
      "Epoch [32/100], Training Loss: 10.853612899780, Validation Loss: 11.720062255859, Learning Rate: 0.30000000\n",
      "Epoch [33/100], Training Loss: 10.717869758606, Validation Loss: 11.596109390259, Learning Rate: 0.30000000\n",
      "Epoch [34/100], Training Loss: 10.607709884644, Validation Loss: 11.461719512939, Learning Rate: 0.30000000\n",
      "Epoch [35/100], Training Loss: 10.484213829041, Validation Loss: 11.325126647949, Learning Rate: 0.30000000\n",
      "Epoch [36/100], Training Loss: 10.350046157837, Validation Loss: 11.212880134583, Learning Rate: 0.30000000\n",
      "Epoch [37/100], Training Loss: 10.232669830322, Validation Loss: 11.106210708618, Learning Rate: 0.30000000\n",
      "Epoch [38/100], Training Loss: 10.109775543213, Validation Loss: 10.987702369690, Learning Rate: 0.30000000\n",
      "Epoch [39/100], Training Loss: 9.992053985596, Validation Loss: 10.874862670898, Learning Rate: 0.30000000\n",
      "Epoch [40/100], Training Loss: 9.906952857971, Validation Loss: 10.762532234192, Learning Rate: 0.18000000\n",
      "Epoch [41/100], Training Loss: 9.803722381592, Validation Loss: 10.567623138428, Learning Rate: 0.18000000\n",
      "Epoch [42/100], Training Loss: 9.685583114624, Validation Loss: 10.532022476196, Learning Rate: 0.18000000\n",
      "Epoch [43/100], Training Loss: 9.572597503662, Validation Loss: 10.484848022461, Learning Rate: 0.18000000\n",
      "Epoch [44/100], Training Loss: 9.515855789185, Validation Loss: 10.408915519714, Learning Rate: 0.18000000\n",
      "Epoch [45/100], Training Loss: 9.474333763123, Validation Loss: 10.310943603516, Learning Rate: 0.18000000\n",
      "Epoch [46/100], Training Loss: 9.358545303345, Validation Loss: 10.237963676453, Learning Rate: 0.18000000\n",
      "Epoch [47/100], Training Loss: 9.272846221924, Validation Loss: 10.169839859009, Learning Rate: 0.18000000\n",
      "Epoch [48/100], Training Loss: 9.273165702820, Validation Loss: 10.092306137085, Learning Rate: 0.18000000\n",
      "Epoch [49/100], Training Loss: 9.317827224731, Validation Loss: 10.099938392639, Learning Rate: 0.18000000\n",
      "Epoch [50/100], Training Loss: 9.113574981689, Validation Loss: 10.050287246704, Learning Rate: 0.18000000\n",
      "Epoch [51/100], Training Loss: 9.079573631287, Validation Loss: 9.942278862000, Learning Rate: 0.18000000\n",
      "Epoch [52/100], Training Loss: 9.022472381592, Validation Loss: 9.904249191284, Learning Rate: 0.18000000\n",
      "Epoch [53/100], Training Loss: 8.933389663696, Validation Loss: 9.901282310486, Learning Rate: 0.18000000\n",
      "Epoch [54/100], Training Loss: 8.830777168274, Validation Loss: 9.904326438904, Learning Rate: 0.18000000\n",
      "Epoch [55/100], Training Loss: 8.752316474915, Validation Loss: 9.799213409424, Learning Rate: 0.18000000\n",
      "Epoch [56/100], Training Loss: 8.672530174255, Validation Loss: 9.701141357422, Learning Rate: 0.18000000\n",
      "Epoch [57/100], Training Loss: 8.601101875305, Validation Loss: 9.628955841064, Learning Rate: 0.18000000\n",
      "Epoch [58/100], Training Loss: 8.533790588379, Validation Loss: 9.567360877991, Learning Rate: 0.18000000\n",
      "Epoch [59/100], Training Loss: 8.476140975952, Validation Loss: 9.504104614258, Learning Rate: 0.18000000\n",
      "Epoch [60/100], Training Loss: 8.419349670410, Validation Loss: 9.439740180969, Learning Rate: 0.10800000\n",
      "Epoch [61/100], Training Loss: 8.305931091309, Validation Loss: 9.317422866821, Learning Rate: 0.10800000\n",
      "Epoch [62/100], Training Loss: 8.219330787659, Validation Loss: 9.251723289490, Learning Rate: 0.10800000\n",
      "Epoch [63/100], Training Loss: 8.160109519958, Validation Loss: 9.219330787659, Learning Rate: 0.10800000\n",
      "Epoch [64/100], Training Loss: 8.110113143921, Validation Loss: 9.189314842224, Learning Rate: 0.10800000\n",
      "Epoch [65/100], Training Loss: 8.068238258362, Validation Loss: 9.159032821655, Learning Rate: 0.10800000\n",
      "Epoch [66/100], Training Loss: 8.027183532715, Validation Loss: 9.128059387207, Learning Rate: 0.10800000\n",
      "Epoch [67/100], Training Loss: 7.987015247345, Validation Loss: 9.100892066956, Learning Rate: 0.10800000\n",
      "Epoch [68/100], Training Loss: 7.947912216187, Validation Loss: 9.073404312134, Learning Rate: 0.10800000\n",
      "Epoch [69/100], Training Loss: 7.909146785736, Validation Loss: 9.047023773193, Learning Rate: 0.10800000\n",
      "Epoch [70/100], Training Loss: 7.874241352081, Validation Loss: 9.019923210144, Learning Rate: 0.10800000\n",
      "Epoch [71/100], Training Loss: 7.840881347656, Validation Loss: 8.990198135376, Learning Rate: 0.10800000\n",
      "Epoch [72/100], Training Loss: 7.808828830719, Validation Loss: 8.958187103271, Learning Rate: 0.10800000\n",
      "Epoch [73/100], Training Loss: 7.774342060089, Validation Loss: 8.931406021118, Learning Rate: 0.10800000\n",
      "Epoch [74/100], Training Loss: 7.742753505707, Validation Loss: 8.905208587646, Learning Rate: 0.10800000\n",
      "Epoch [75/100], Training Loss: 7.709587574005, Validation Loss: 8.877170562744, Learning Rate: 0.10800000\n",
      "Epoch [76/100], Training Loss: 7.678276538849, Validation Loss: 8.848868370056, Learning Rate: 0.10800000\n",
      "Epoch [77/100], Training Loss: 7.647980213165, Validation Loss: 8.820204734802, Learning Rate: 0.10800000\n",
      "Epoch [78/100], Training Loss: 7.618093490601, Validation Loss: 8.790331840515, Learning Rate: 0.10800000\n",
      "Epoch [79/100], Training Loss: 7.592005729675, Validation Loss: 8.761689186096, Learning Rate: 0.10800000\n",
      "Epoch [80/100], Training Loss: 7.573612689972, Validation Loss: 8.731110572815, Learning Rate: 0.06480000\n",
      "Epoch [81/100], Training Loss: 7.559216499329, Validation Loss: 8.580946922302, Learning Rate: 0.06480000\n",
      "Epoch [82/100], Training Loss: 7.503016948700, Validation Loss: 8.547553062439, Learning Rate: 0.06480000\n",
      "Epoch [83/100], Training Loss: 7.464638233185, Validation Loss: 8.520789146423, Learning Rate: 0.06480000\n",
      "Epoch [84/100], Training Loss: 7.429595947266, Validation Loss: 8.494511604309, Learning Rate: 0.06480000\n",
      "Epoch [85/100], Training Loss: 7.399629592896, Validation Loss: 8.470534324646, Learning Rate: 0.06480000\n",
      "Epoch [86/100], Training Loss: 7.369964599609, Validation Loss: 8.448190689087, Learning Rate: 0.06480000\n",
      "Epoch [87/100], Training Loss: 7.340996742249, Validation Loss: 8.425986289978, Learning Rate: 0.06480000\n",
      "Epoch [88/100], Training Loss: 7.311481475830, Validation Loss: 8.404286384583, Learning Rate: 0.06480000\n",
      "Epoch [89/100], Training Loss: 7.283543586731, Validation Loss: 8.384441375732, Learning Rate: 0.06480000\n",
      "Epoch [90/100], Training Loss: 7.255794525146, Validation Loss: 8.365780830383, Learning Rate: 0.06480000\n",
      "Epoch [91/100], Training Loss: 7.228445053101, Validation Loss: 8.348702430725, Learning Rate: 0.06480000\n",
      "Epoch [92/100], Training Loss: 7.203124523163, Validation Loss: 8.333159446716, Learning Rate: 0.06480000\n",
      "Epoch [93/100], Training Loss: 7.178032398224, Validation Loss: 8.315889358521, Learning Rate: 0.06480000\n",
      "Epoch [94/100], Training Loss: 7.154892444611, Validation Loss: 8.300528526306, Learning Rate: 0.06480000\n",
      "Epoch [95/100], Training Loss: 7.132499217987, Validation Loss: 8.285120010376, Learning Rate: 0.06480000\n",
      "Epoch [96/100], Training Loss: 7.107848644257, Validation Loss: 8.269200325012, Learning Rate: 0.06480000\n",
      "Epoch [97/100], Training Loss: 7.083956241608, Validation Loss: 8.253101348877, Learning Rate: 0.06480000\n",
      "Epoch [98/100], Training Loss: 7.060388088226, Validation Loss: 8.235984802246, Learning Rate: 0.06480000\n",
      "Epoch [99/100], Training Loss: 7.040977954865, Validation Loss: 8.222174644470, Learning Rate: 0.06480000\n",
      "Epoch [100/100], Training Loss: 7.022253036499, Validation Loss: 8.211505889893, Learning Rate: 0.03888000\n"
     ]
    }
   ],
   "source": [
    "from torch.optim.lr_scheduler import StepLR\n",
    "model = DenoiseAutoencoder()\n",
    "# example_input = torch.randn(1, 1, 128, time_steps)  # Batch size = 1, Channels = 1\n",
    "# output = model(example_input)\n",
    "# print(\"Output shape:\", output.shape)  # Should be (1, 1, 128, time_steps)\n",
    "\n",
    "# torchsummary.summary(model,(1,64,44))\n",
    "criterion = nn.MSELoss()\n",
    "optimizer = optim.Adam(model.parameters(), lr=learning_rate)\n",
    "scheduler = StepLR(optimizer, step_size=lr_decay_step, gamma=lr_decay_gamma)\n",
    "training_losses = []\n",
    "valdation_losses = []\n",
    "\n",
    "# 訓練過程\n",
    "for epoch in range(num_epochs):\n",
    "    model.train()\n",
    "    for (mixed, clean) in dataloader:\n",
    "        \n",
    "        optimizer.zero_grad()\n",
    "\n",
    "        # 前向傳播\n",
    "        outputs = model(mixed)\n",
    "        loss = criterion(outputs, clean)\n",
    "            \n",
    "        # 反向傳播和優化\n",
    "        loss.backward()\n",
    "        optimizer.step()\n",
    "        \n",
    "    # Step the scheduler to decay the learning rate\n",
    "    scheduler.step()\n",
    "    \n",
    "    # count validation loss\n",
    "    val_output = model(next(iter(dataloader_val))[0])\n",
    "    val_loss = criterion(val_output, next(iter(dataloader_val))[1])\n",
    "    valdation_losses.append(val_loss.item())\n",
    "    \n",
    "    training_losses.append(loss.item())\n",
    "    # Optionally, print the current learning rate and loss\n",
    "    current_lr = scheduler.get_last_lr()[0]\n",
    "    print(f\"Epoch [{epoch+1}/{num_epochs}], Training Loss: {loss.item():.12f}, Validation Loss: {val_loss.item():.12f}, Learning Rate: {current_lr:.8f}\")"
   ]
  },
  {
   "cell_type": "code",
   "execution_count": 92,
   "metadata": {},
   "outputs": [
    {
     "data": {
      "image/png": "[encoded data removed]",
      "text/plain": [
       "<Figure size 1000x500 with 1 Axes>"
      ]
     },
     "metadata": {},
     "output_type": "display_data"
    }
   ],
   "source": [
    "# plot the training and validation losses\n",
    "plt.figure(figsize=(10, 5))\n",
    "plt.plot(training_losses, label=\"Training Loss\")\n",
    "plt.plot(valdation_losses, label=\"Validation Loss\")\n",
    "plt.xlabel(\"Epoch\")\n",
    "plt.ylabel(\"Loss\")\n",
    "plt.legend()\n",
    "plt.show()"
   ]
  },
  {
   "cell_type": "markdown",
   "metadata": {},
   "source": [
    "### Prediction"
   ]
  },
  {
   "cell_type": "code",
   "execution_count": 93,
   "metadata": {},
   "outputs": [],
   "source": [
    "# MelSpectrogram參數 (勿動)\n",
    "n_mels = 128                # 保持 Mel 頻譜圖的解析度\n",
    "n_fft = 1024                # 提高 FFT 窗口大小以適配更多信號頻率\n",
    "hop_length = 512            # 保持 hop_length 為 n_fft 的一半\n",
    "win_length = 1024           # 窗口大小與 n_fft 保持一致（或設為 None 使用默認值）\n",
    "sample_rate = 16000         # 採樣率保持不變，適合語音處理\n",
    "f_max = sample_rate // 2    # 預設為 Nyquist 頻率，即 8000 Hz\n",
    "duration = 5                # 音頻時長為 5 秒"
   ]
  },
  {
   "cell_type": "code",
   "execution_count": 94,
   "metadata": {},
   "outputs": [],
   "source": [
    "# # CLEAN\n",
    "# clean_waveform, sr = librosa.load('test_clean.wav', sr=sample_rate)\n",
    "\n",
    "# if sr != sample_rate:\n",
    "#     clean_waveform = librosa.resample(clean_waveform, orig_sr=sr, target_sr=sample_rate)\n",
    "\n",
    "# clean_mel_spectrogram = librosa.feature.melspectrogram(\n",
    "#     y=clean_waveform,\n",
    "#     sr=sample_rate,\n",
    "#     n_fft=n_fft,\n",
    "#     hop_length=hop_length,\n",
    "#     n_mels=n_mels\n",
    "# )\n",
    "\n",
    "# clean_mel_spectrogram_db = librosa.power_to_db(\n",
    "#     clean_mel_spectrogram, \n",
    "#     ref=np.max, \n",
    "#     amin=1e-10  # 避免log(0)\n",
    "# )\n",
    "\n",
    "# clean_mel_tensor = torch.tensor(clean_mel_spectrogram_db, dtype=torch.float32).squeeze().unsqueeze(0)\n",
    "\n",
    "# clean_mel = clean_mel_tensor\n",
    "# clean_output = clean_mel.squeeze(0).squeeze(0).detach().numpy()\n",
    "# clean_output = librosa.db_to_power(clean_output)\n",
    "\n",
    "# audio_signal = librosa.feature.inverse.mel_to_audio(clean_output, sr=sample_rate, n_iter=500)\n",
    "# audio_signal = audio_signal / np.max(np.abs(audio_signal))\n",
    "\n",
    "\n",
    "# librosa.display.waveshow(audio_signal, sr=sample_rate)\n",
    "# soundfile.write('test_librosa_clean.wav', audio_signal, sample_rate)"
   ]
  },
  {
   "cell_type": "code",
   "execution_count": 106,
   "metadata": {},
   "outputs": [
    {
     "data": {
      "image/png": "[encoded data removed]",
      "text/plain": [
       "<Figure size 640x480 with 1 Axes>"
      ]
     },
     "metadata": {},
     "output_type": "display_data"
    }
   ],
   "source": [
    "# MIXED\n",
    "mixed_waveform, sample_rate = librosa.load('test2.wav', sr=sample_rate)\n",
    "\n",
    "# if sr != sample_rate:\n",
    "#     mixed_waveform = librosa.resample(mixed_waveform, orig_sr=sr, target_sr=sample_rate)\n",
    "    \n",
    "# cut to fit the duration\n",
    "if len(mixed_waveform) > sample_rate * duration:\n",
    "    mixed_waveform = mixed_waveform[:sample_rate * duration]\n",
    "\n",
    "mixed_mel_spectrogram = librosa.feature.melspectrogram(\n",
    "    y=mixed_waveform,\n",
    "    sr=sample_rate,\n",
    "    n_fft=n_fft,\n",
    "    hop_length=hop_length,\n",
    "    n_mels=n_mels\n",
    ")\n",
    "\n",
    "mixed_mel_spectrogram_db = librosa.power_to_db(\n",
    "    mixed_mel_spectrogram, \n",
    "    ref=np.max, \n",
    "    amin=1e-10  # 避免log(0)\n",
    ")\n",
    "\n",
    "# mixed_mel_tensor = torch.tensor(mixed_mel_spectrogram, dtype=torch.float32).squeeze().unsqueeze(0)\n",
    "# mixed_mel_tensor = torch.tensor(mixed_mel_spectrogram_db, dtype=torch.float32).squeeze().unsqueeze(0)\n",
    "mixed_mel_tensor = torch.tensor(np.load('nature_mixed.npy'), dtype=torch.float32).squeeze().unsqueeze(0)\n",
    "\n",
    "mixed_mel = mixed_mel_tensor\n",
    "mixed_output = mixed_mel.squeeze(0).squeeze(0).detach().numpy()\n",
    "mixed_output = librosa.db_to_power(mixed_output)\n",
    "\n",
    "audio_signal = librosa.feature.inverse.mel_to_audio(\n",
    "    mixed_output,\n",
    "    sr=sample_rate,\n",
    "    n_fft=n_fft,\n",
    "    hop_length=hop_length,\n",
    "    n_iter=4096\n",
    ")\n",
    "\n",
    "audio_signal = audio_signal / np.max(np.abs(audio_signal))\n",
    "\n",
    "\n",
    "librosa.display.waveshow(audio_signal, sr=sample_rate)\n",
    "soundfile.write('test_librosa_mixed.wav', audio_signal, sample_rate)"
   ]
  },
  {
   "cell_type": "code",
   "execution_count": 107,
   "metadata": {},
   "outputs": [
    {
     "name": "stdout",
     "output_type": "stream",
     "text": [
      "torch.Size([1, 128, 157])\n"
     ]
    },
    {
     "data": {
      "image/png": "[encoded data removed]",
      "text/plain": [
       "<Figure size 640x480 with 1 Axes>"
      ]
     },
     "metadata": {},
     "output_type": "display_data"
    }
   ],
   "source": [
    "# DENOISED\n",
    "model.eval()  # 设置模型为评估模式\n",
    "print(mixed_mel_tensor.shape)\n",
    "mixed_mel_tensor = torch.tensor(np.pad(mixed_mel_tensor, pad_width=pad_width, mode='constant', constant_values=0), dtype=torch.float32)\n",
    "denoised_output = model(mixed_mel_tensor.unsqueeze(0))\n",
    "denoised_output = denoised_output.squeeze(0).squeeze(0).detach().numpy()\n",
    "denoised_output = librosa.db_to_power(denoised_output)\n",
    "\n",
    "audio_signal = librosa.feature.inverse.mel_to_audio(denoised_output, sr=sample_rate, n_iter=500)\n",
    "audio_signal = audio_signal / np.max(np.abs(audio_signal))\n",
    "\n",
    "librosa.display.waveshow(audio_signal, sr=sample_rate)\n",
    "soundfile.write('test_librosa_denoised.wav', audio_signal, sample_rate)\n"
   ]
  }
 ],
 "metadata": {
  "kernelspec": {
   "display_name": "Python 3",
   "language": "python",
   "name": "python3"
  },
  "language_info": {
   "codemirror_mode": {
    "name": "ipython",
    "version": 3
   },
   "file_extension": ".py",
   "mimetype": "text/x-python",
   "name": "python",
   "nbconvert_exporter": "python",
   "pygments_lexer": "ipython3",
   "version": "3.12.7"
  }
 },
 "nbformat": 4,
 "nbformat_minor": 2
}
