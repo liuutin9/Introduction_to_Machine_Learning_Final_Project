{
 "cells": [
  {
   "cell_type": "markdown",
   "metadata": {},
   "source": [
    "# Test"
   ]
  },
  {
   "cell_type": "code",
   "execution_count": 1,
   "metadata": {},
   "outputs": [],
   "source": [
    "import torchaudio\n",
    "import torch\n",
    "import torch.nn.functional as F\n",
    "import torch.nn as nn\n",
    "from torch.utils.data import DataLoader, Dataset\n",
    "import torch.optim as optim\n",
    "import os"
   ]
  },
  {
   "cell_type": "code",
   "execution_count": 2,
   "metadata": {},
   "outputs": [],
   "source": [
    "# 全局參數設置\n",
    "n_fft = 512\n",
    "win_length = None  # 設置為 None 時，默認等於 n_fft\n",
    "hop_length = n_fft // 2\n",
    "n_mels = 40  # 確保這個值與模型定義時使用的值相同\n",
    "sample_rate = 44100  # 請確保這個值正確\n",
    "\n",
    "mel_spectrogram_transform = torchaudio.transforms.MelSpectrogram(\n",
    "    sample_rate = sample_rate,\n",
    "    n_fft = n_fft,\n",
    "    win_length = win_length,\n",
    "    hop_length = hop_length,\n",
    "    n_mels = n_mels,\n",
    "    f_min = 0,\n",
    "    f_max = sample_rate/2\n",
    ")"
   ]
  },
  {
   "cell_type": "markdown",
   "metadata": {},
   "source": [
    "### 音頻數據的準備與處理\n",
    "你可以使用 `torchaudio` 來處理音頻數據，將其加載並轉換為頻譜圖。`torchaudio` 可以非常方便地處理音頻格式。"
   ]
  },
  {
   "cell_type": "code",
   "execution_count": 3,
   "metadata": {},
   "outputs": [
    {
     "name": "stdout",
     "output_type": "stream",
     "text": [
      "data length: 1100\n",
      "data shape: torch.Size([1, 40, 376])\n",
      "data shape: torch.Size([1, 40, 376])\n"
     ]
    }
   ],
   "source": [
    "clean_data_dir = \"../voice/data/\"\n",
    "mixed_data_dir = \"../sound/\"\n",
    "clean_data = []\n",
    "mixed_data = []\n",
    "target_size = float('inf')\n",
    "\n",
    "for file_name in os.listdir(mixed_data_dir):\n",
    "    clean_file_name = file_name.split('_')[1].split('.')[0] + '.wav'\n",
    "    waveform_clean, sample_rate = torchaudio.load(''.join([clean_data_dir, clean_file_name]))\n",
    "    waveform_mixed, sample_rate = torchaudio.load(''.join([mixed_data_dir, file_name]))\n",
    "    waveform_clean_mono = waveform_clean.mean(dim = 0, keepdim = True)\n",
    "    waveform_mixed_mono = waveform_mixed.mean(dim = 0, keepdim = True)\n",
    "    \n",
    "    # 生成 Mel Spectrogram\n",
    "    mel_spectrogram_clean = mel_spectrogram_transform(waveform_clean_mono)\n",
    "    mel_spectrogram_mixed = mel_spectrogram_transform(waveform_mixed_mono)\n",
    "    \n",
    "    # 確保兩個頻譜圖具有相同的大小\n",
    "    target_size = min(target_size, min(mel_spectrogram_clean.shape[-1], mel_spectrogram_mixed.shape[-1]))\n",
    "    target_size = (target_size // 8) * 8  # 确保目标大小是8的倍数\n",
    "    clean_data.append(mel_spectrogram_clean)\n",
    "    mixed_data.append(mel_spectrogram_mixed)\n",
    "    \n",
    "    \n",
    "for i in range(len(clean_data)):\n",
    "    clean_data[i] = clean_data[i][..., :target_size]\n",
    "    mixed_data[i] = mixed_data[i][..., :target_size]\n",
    "\n",
    "print(\"data length:\", len(clean_data))\n",
    "print(\"data shape:\", clean_data[0].shape)\n",
    "print(\"data shape:\", mixed_data[0].shape)"
   ]
  },
  {
   "cell_type": "markdown",
   "metadata": {},
   "source": [
    "### 構建 Denoise Autoencoder 模型\n",
    "這是一個簡單的自編碼器的 PyTorch 模型範例，使用了卷積層來處理音頻的頻譜數據："
   ]
  },
  {
   "cell_type": "code",
   "execution_count": 4,
   "metadata": {},
   "outputs": [],
   "source": [
    "class DenoiseAutoencoder(nn.Module):\n",
    "    def __init__(self):\n",
    "        super(DenoiseAutoencoder, self).__init__()\n",
    "        # 編碼器\n",
    "        self.encoder = nn.Sequential(\n",
    "            nn.Conv2d(1, 16, kernel_size=3, stride=2, padding=1),  # 修改這裡的in_channels為2\n",
    "            nn.ReLU(),\n",
    "            nn.Conv2d(16, 32, kernel_size=3, stride=2, padding=1),\n",
    "            nn.ReLU(),\n",
    "            nn.Conv2d(32, 64, kernel_size=3, stride=2, padding=1),\n",
    "            nn.ReLU()\n",
    "        )\n",
    "        # 解碼器\n",
    "        self.decoder = nn.Sequential(\n",
    "            nn.ConvTranspose2d(64, 32, kernel_size=3, stride=2, padding=1, output_padding=1),\n",
    "            nn.ReLU(),\n",
    "            nn.ConvTranspose2d(32, 16, kernel_size=3, stride=2, padding=1, output_padding=1),\n",
    "            nn.ReLU(),\n",
    "            nn.ConvTranspose2d(16, 1, kernel_size=3, stride=2, padding=1, output_padding=1),  # 修改這裡的out_channels為2\n",
    "            nn.Sigmoid()  # Sigmoid將輸出值範圍限制在[0, 1]\n",
    "        )\n",
    "        \n",
    "    def forward(self, x):\n",
    "        x = self.encoder(x)\n",
    "        x = self.decoder(x)\n",
    "        return x\n"
   ]
  },
  {
   "cell_type": "markdown",
   "metadata": {},
   "source": [
    "### 準備數據\n",
    "你可以將嘈雜音頻和乾淨音頻分別準備成訓練集的輸入和標籤。這裡的 `DataLoader` 用來批量加載數據。"
   ]
  },
  {
   "cell_type": "code",
   "execution_count": 5,
   "metadata": {},
   "outputs": [],
   "source": [
    "class AudioDataset(Dataset):\n",
    "    def __init__(self, mixed_data, clean_data):\n",
    "        self.mixed_data = mixed_data\n",
    "        self.clean_data = clean_data\n",
    "    \n",
    "    def __len__(self):\n",
    "        return len(self.mixed_data)\n",
    "    \n",
    "    def __getitem__(self, idx):\n",
    "        return self.mixed_data[idx], self.clean_data[idx]\n",
    "\n",
    "# 假設已經有 noisy_data 和 clean_data 作為音頻數據的 Mel spectrogram\n",
    "dataset = AudioDataset(mixed_data, clean_data)\n",
    "dataloader = DataLoader(dataset, batch_size = len(mixed_data), shuffle = True)"
   ]
  },
  {
   "cell_type": "markdown",
   "metadata": {},
   "source": [
    "### 訓練模型\n",
    "我們可以使用均方誤差（MSE）作為損失函數，並使用Adam優化器來進行模型參數的更新。"
   ]
  },
  {
   "cell_type": "code",
   "execution_count": 6,
   "metadata": {},
   "outputs": [
    {
     "name": "stdout",
     "output_type": "stream",
     "text": [
      "Using device: cpu\n",
      "Epoch [01/50], Loss: 5290.2378, Best Loss: 5290.2378\n",
      "Epoch [02/50], Loss: 5288.1973, Best Loss: 5288.1973\n",
      "Epoch [03/50], Loss: 5286.7041, Best Loss: 5286.7041\n",
      "Epoch [04/50], Loss: 5285.3872, Best Loss: 5285.3872\n",
      "Epoch [05/50], Loss: 5284.1001, Best Loss: 5284.1001\n",
      "Epoch [06/50], Loss: 5282.8613, Best Loss: 5282.8613\n",
      "Epoch [07/50], Loss: 5281.7007, Best Loss: 5281.7007\n",
      "Epoch [08/50], Loss: 5280.7222, Best Loss: 5280.7222\n",
      "Epoch [09/50], Loss: 5279.8457, Best Loss: 5279.8457\n",
      "Epoch [10/50], Loss: 5279.1172, Best Loss: 5279.1172\n",
      "Epoch [11/50], Loss: 5278.5967, Best Loss: 5278.5967\n",
      "Epoch [12/50], Loss: 5278.1665, Best Loss: 5278.1665\n",
      "Epoch [13/50], Loss: 5277.6533, Best Loss: 5277.6533\n",
      "Epoch [14/50], Loss: 5277.3096, Best Loss: 5277.3096\n",
      "Epoch [15/50], Loss: 5277.1333, Best Loss: 5277.1333\n",
      "Epoch [16/50], Loss: 5277.0171, Best Loss: 5277.0171\n",
      "Epoch [17/50], Loss: 5276.9341, Best Loss: 5276.9341\n",
      "Epoch [18/50], Loss: 5276.8740, Best Loss: 5276.8740\n",
      "Epoch [19/50], Loss: 5276.8320, Best Loss: 5276.8320\n",
      "Epoch [20/50], Loss: 5276.7998, Best Loss: 5276.7998\n",
      "Epoch [21/50], Loss: 5276.7773, Best Loss: 5276.7773\n",
      "Epoch [22/50], Loss: 5276.7603, Best Loss: 5276.7603\n",
      "Epoch [23/50], Loss: 5276.7471, Best Loss: 5276.7471\n",
      "Epoch [24/50], Loss: 5276.7373, Best Loss: 5276.7373\n",
      "Epoch [25/50], Loss: 5276.7295, Best Loss: 5276.7295\n",
      "Epoch [26/50], Loss: 5276.7236, Best Loss: 5276.7236\n",
      "Epoch [27/50], Loss: 5276.7192, Best Loss: 5276.7192\n",
      "Epoch [28/50], Loss: 5276.7144, Best Loss: 5276.7144\n",
      "Epoch [29/50], Loss: 5276.7119, Best Loss: 5276.7119\n",
      "Epoch [30/50], Loss: 5276.7100, Best Loss: 5276.7100\n",
      "Epoch [31/50], Loss: 5276.7080, Best Loss: 5276.7080\n",
      "Epoch [32/50], Loss: 5276.7061, Best Loss: 5276.7061\n",
      "Epoch [33/50], Loss: 5276.7046, Best Loss: 5276.7046\n",
      "Epoch [34/50], Loss: 5276.7031, Best Loss: 5276.7031\n",
      "Epoch [35/50], Loss: 5276.7021, Best Loss: 5276.7021\n",
      "Epoch [36/50], Loss: 5276.7012, Best Loss: 5276.7012\n",
      "Epoch [37/50], Loss: 5276.7002, Best Loss: 5276.7002\n",
      "Epoch [38/50], Loss: 5276.6992, Best Loss: 5276.6992\n",
      "Epoch [39/50], Loss: 5276.6982, Best Loss: 5276.6982\n",
      "Epoch [40/50], Loss: 5276.6968, Best Loss: 5276.6968\n",
      "Epoch [41/50], Loss: 5276.6963, Best Loss: 5276.6963\n",
      "Epoch [42/50], Loss: 5276.6943, Best Loss: 5276.6943\n",
      "Epoch [43/50], Loss: 5276.6938, Best Loss: 5276.6938\n",
      "Epoch [44/50], Loss: 5276.6929, Best Loss: 5276.6929\n",
      "Epoch [45/50], Loss: 5276.6909, Best Loss: 5276.6909\n",
      "Epoch [46/50], Loss: 5276.6899, Best Loss: 5276.6899\n",
      "Epoch [47/50], Loss: 5276.6890, Best Loss: 5276.6890\n",
      "Epoch [48/50], Loss: 5276.6875, Best Loss: 5276.6875\n",
      "Epoch [49/50], Loss: 5276.6860, Best Loss: 5276.6860\n",
      "Epoch [50/50], Loss: 5276.6846, Best Loss: 5276.6846\n"
     ]
    }
   ],
   "source": [
    "# 確認是否有可用的 GPU\n",
    "device = torch.device(\"cuda\" if torch.cuda.is_available() else \"cpu\")\n",
    "print(f\"Using device: {device}\")\n",
    "\n",
    "# 初始化模型、損失函數和優化器\n",
    "model = DenoiseAutoencoder().to(device)  # 確保模型在設備上\n",
    "criterion = nn.MSELoss()\n",
    "optimizer = optim.Adam(model.parameters(), lr=0.001)  # learning rate\n",
    "\n",
    "# 訓練過程\n",
    "num_epochs = 50\n",
    "best_loss = float('inf')  # 初始化最佳損失值\n",
    "\n",
    "for epoch in range(num_epochs):\n",
    "    model.train()  # 訓練模式\n",
    "    for noisy, clean in dataloader:\n",
    "        # 將數據移動到設備 (如果你使用 GPU)\n",
    "        noisy, clean = noisy.to(device), clean.to(device)\n",
    "\n",
    "        # 前向傳播\n",
    "        outputs = model(noisy)\n",
    "        loss = criterion(outputs, clean)\n",
    "        \n",
    "        # 反向傳播與優化\n",
    "        optimizer.zero_grad()\n",
    "        loss.backward()\n",
    "        optimizer.step()\n",
    "    \n",
    "    # 儲存最佳模型\n",
    "    if loss.item() < best_loss:\n",
    "        best_loss = loss.item()\n",
    "        torch.save({\n",
    "            'epoch': epoch,\n",
    "            'model_state_dict': model.state_dict(),\n",
    "            'optimizer_state_dict': optimizer.state_dict(),\n",
    "            'loss': best_loss,\n",
    "        }, 'best_model.pth')\n",
    "    \n",
    "    print(f'Epoch [{epoch+1:02d}/{num_epochs}], Loss: {loss.item():.4f}, Best Loss: {best_loss:.4f}')\n"
   ]
  },
  {
   "cell_type": "markdown",
   "metadata": {},
   "source": [
    "### 應用模型\n",
    "當訓練結束後，你可以將新的嘈雜音頻輸入到模型中，輸出去噪後的乾淨音頻。"
   ]
  },
  {
   "cell_type": "code",
   "execution_count": 7,
   "metadata": {},
   "outputs": [
    {
     "name": "stderr",
     "output_type": "stream",
     "text": [
      "C:\\Users\\liuut\\AppData\\Local\\Temp\\ipykernel_2732\\2470653099.py:2: FutureWarning: You are using `torch.load` with `weights_only=False` (the current default value), which uses the default pickle module implicitly. It is possible to construct malicious pickle data which will execute arbitrary code during unpickling (See https://github.com/pytorch/pytorch/blob/main/SECURITY.md#untrusted-models for more details). In a future release, the default value for `weights_only` will be flipped to `True`. This limits the functions that could be executed during unpickling. Arbitrary objects will no longer be allowed to be loaded via this mode unless they are explicitly allowlisted by the user via `torch.serialization.add_safe_globals`. We recommend you start setting `weights_only=True` for any use case where you don't have full control of the loaded file. Please open an issue on GitHub for any issues related to this experimental feature.\n",
      "  checkpoint = torch.load('best_model.pth')\n"
     ]
    }
   ],
   "source": [
    "# 加載最佳模型\n",
    "checkpoint = torch.load('best_model.pth')\n",
    "model.load_state_dict(checkpoint['model_state_dict'])\n",
    "model.to(device)  # 移動模型到設備（如果使用 GPU）\n",
    "\n",
    "# 設置模型為評估模式\n",
    "model.eval()\n",
    "\n",
    "with torch.no_grad():\n",
    "    # 加載測試音訊\n",
    "    waveform_test, sample_rate = torchaudio.load(\"test_mixed.wav\")\n",
    "    \n",
    "    # 如果需要將音頻轉換為單聲道\n",
    "    waveform_test_mono = waveform_test.mean(dim=0, keepdim=True)\n",
    "    \n",
    "    # 將波形轉換為 Mel Spectrogram\n",
    "    mel_spectrogram_test = mel_spectrogram_transform(waveform_test_mono.to(device))\n",
    "    \n",
    "    # 使用模型去噪 Mel Spectrogram\n",
    "    denoised_mel = model(mel_spectrogram_test.unsqueeze(0))  # 加入批次維度 (batch size)\n",
    "    \n",
    "    # 移除批次維度並轉換回線性頻譜\n",
    "    inverse_melscale = torchaudio.transforms.InverseMelScale(\n",
    "        n_stft=(n_fft // 2 + 1),\n",
    "        n_mels=n_mels,\n",
    "        sample_rate=sample_rate\n",
    "    )\n",
    "    \n",
    "    # linear_spec = inverse_melscale(denoised_mel.squeeze(0))  # 移除批次維度\n",
    "    linear_spec = inverse_melscale(mel_spectrogram_test)\n",
    "    \n",
    "    # 創建幅度譜並使用 Griffin-Lim 重建波形\n",
    "    magnitude_spec = linear_spec.unsqueeze(0)  # 添加回批次維度\n",
    "    \n",
    "    griffin_lim = torchaudio.transforms.GriffinLim(\n",
    "        n_fft=n_fft,\n",
    "        win_length=win_length,\n",
    "        hop_length=hop_length,\n",
    "        power=1.0,  # 因為已經有幅度譜而不是功率譜\n",
    "        n_iter=32\n",
    "    )\n",
    "    \n",
    "    denoised_waveform = griffin_lim(magnitude_spec)\n",
    "    \n",
    "    # 保存去噪後的音訊\n",
    "    if denoised_waveform.dim() == 1:\n",
    "        denoised_waveform = denoised_waveform.unsqueeze(0)\n",
    "        \n",
    "    if denoised_waveform.dim() == 3:\n",
    "        denoised_waveform = denoised_waveform.squeeze(0)\n",
    "    \n",
    "    torchaudio.save('denoised_output.wav', denoised_waveform.cpu(), sample_rate)  # 移回CPU以保存音頻\n"
   ]
  }
 ],
 "metadata": {
  "kernelspec": {
   "display_name": "Python 3",
   "language": "python",
   "name": "python3"
  },
  "language_info": {
   "codemirror_mode": {
    "name": "ipython",
    "version": 3
   },
   "file_extension": ".py",
   "mimetype": "text/x-python",
   "name": "python",
   "nbconvert_exporter": "python",
   "pygments_lexer": "ipython3",
   "version": "3.12.7"
  }
 },
 "nbformat": 4,
 "nbformat_minor": 2
}
