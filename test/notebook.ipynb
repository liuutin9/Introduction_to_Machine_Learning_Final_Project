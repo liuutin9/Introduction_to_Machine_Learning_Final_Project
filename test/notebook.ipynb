{
 "cells": [
  {
   "cell_type": "markdown",
   "metadata": {},
   "source": [
    "# Test"
   ]
  },
  {
   "cell_type": "code",
   "execution_count": 295,
   "metadata": {},
   "outputs": [],
   "source": [
    "import torchaudio\n",
    "import torch\n",
    "import torch.nn.functional as F\n",
    "import torch.nn as nn\n",
    "from torch.utils.data import DataLoader, Dataset\n",
    "import torch.optim as optim\n",
    "import os"
   ]
  },
  {
   "cell_type": "code",
   "execution_count": null,
   "metadata": {},
   "outputs": [],
   "source": [
    "# 全局參數設置\n",
    "n_fft = 512\n",
    "win_length = None  # 設置為 None 時，默認等於 n_fft\n",
    "hop_length = n_fft // 2\n",
    "n_mels = 56  # 確保這個值與模型定義時使用的值相同\n",
    "sample_rate = 44100  # 請確保這個值正確\n",
    "\n",
    "mel_spectrogram_transform = torchaudio.transforms.MelSpectrogram(\n",
    "    sample_rate = sample_rate,\n",
    "    n_fft = n_fft,\n",
    "    win_length = win_length,\n",
    "    hop_length = hop_length,\n",
    "    n_mels = n_mels,\n",
    "    f_min = 0,\n",
    "    f_max = sample_rate/2\n",
    ")"
   ]
  },
  {
   "cell_type": "markdown",
   "metadata": {},
   "source": [
    "### 音頻數據的準備與處理\n",
    "你可以使用 `torchaudio` 來處理音頻數據，將其加載並轉換為頻譜圖。`torchaudio` 可以非常方便地處理音頻格式。"
   ]
  },
  {
   "cell_type": "code",
   "execution_count": null,
   "metadata": {},
   "outputs": [],
   "source": [
    "clean_data_dir = \"../clean_data/\"\n",
    "mixed_data_dir = \"../mixed_data/\"\n",
    "clean_data = []\n",
    "mixed_data = []\n",
    "\n",
    "for file_name in os.listdir(mixed_data_dir):\n",
    "    waveform_clean, sample_rate = torchaudio.load(''.join([clean_data_dir, file_name]))\n",
    "    waveform_mixed, sample_rate = torchaudio.load(''.join([mixed_data_dir, file_name]))\n",
    "    \n",
    "    # 生成 Mel Spectrogram\n",
    "    mel_spectrogram_clean = mel_spectrogram_transform(waveform_clean)\n",
    "    mel_spectrogram_mixed = mel_spectrogram_transform(waveform_mixed)\n",
    "    \n",
    "    # 確保兩個頻譜圖具有相同的大小\n",
    "    target_size = min(target_size, min(mel_spectrogram_clean.shape[-1], mel_spectrogram_mixed.shape[-1]))\n",
    "    target_size = (target_size // 8) * 8  # 确保目标大小是8的倍数\n",
    "    clean_data.append(mel_spectrogram_clean)\n",
    "    mixed_data.append(mel_spectrogram_mixed)\n",
    "    \n",
    "    \n",
    "for i in range(len(clean_data)):\n",
    "    clean_data[i] = clean_data[i][..., :target_size]\n",
    "    mixed_data[i] = mixed_data[i][..., :target_size]\n",
    "\n",
    "print(\"data length:\", len(clean_data))\n",
    "print(\"data shape:\", clean_data[0].shape)\n",
    "print(\"data shape:\", mixed_data[0].shape)"
   ]
  },
  {
   "cell_type": "markdown",
   "metadata": {},
   "source": [
    "### 構建 Denoise Autoencoder 模型\n",
    "這是一個簡單的自編碼器的 PyTorch 模型範例，使用了卷積層來處理音頻的頻譜數據："
   ]
  },
  {
   "cell_type": "code",
   "execution_count": 297,
   "metadata": {},
   "outputs": [],
   "source": [
    "class DenoiseAutoencoder(nn.Module):\n",
    "    def __init__(self):\n",
    "        super(DenoiseAutoencoder, self).__init__()\n",
    "        # 編碼器\n",
    "        self.encoder = nn.Sequential(\n",
    "            nn.Conv2d(1, 16, kernel_size=3, stride=2, padding=1),  # 修改這裡的in_channels為2\n",
    "            nn.ReLU(),\n",
    "            nn.Conv2d(16, 32, kernel_size=3, stride=2, padding=1),\n",
    "            nn.ReLU(),\n",
    "            nn.Conv2d(32, 64, kernel_size=3, stride=2, padding=1),\n",
    "            nn.ReLU()\n",
    "        )\n",
    "        # 解碼器\n",
    "        self.decoder = nn.Sequential(\n",
    "            nn.ConvTranspose2d(64, 32, kernel_size=3, stride=2, padding=1, output_padding=1),\n",
    "            nn.ReLU(),\n",
    "            nn.ConvTranspose2d(32, 16, kernel_size=3, stride=2, padding=1, output_padding=1),\n",
    "            nn.ReLU(),\n",
    "            nn.ConvTranspose2d(16, 1, kernel_size=3, stride=2, padding=1, output_padding=1),  # 修改這裡的out_channels為2\n",
    "            nn.Sigmoid()  # Sigmoid將輸出值範圍限制在[0, 1]\n",
    "        )\n",
    "        \n",
    "    def forward(self, x):\n",
    "        x = self.encoder(x)\n",
    "        x = self.decoder(x)\n",
    "        return x\n"
   ]
  },
  {
   "cell_type": "markdown",
   "metadata": {},
   "source": [
    "### 準備數據\n",
    "你可以將嘈雜音頻和乾淨音頻分別準備成訓練集的輸入和標籤。這裡的 `DataLoader` 用來批量加載數據。"
   ]
  },
  {
   "cell_type": "code",
   "execution_count": 298,
   "metadata": {},
   "outputs": [],
   "source": [
    "class AudioDataset(Dataset):\n",
    "    def __init__(self, mixed_data, clean_data):\n",
    "        self.mixed_data = mixed_data\n",
    "        self.clean_data = clean_data\n",
    "    \n",
    "    def __len__(self):\n",
    "        return len(self.mixed_data)\n",
    "    \n",
    "    def __getitem__(self, idx):\n",
    "        return self.mixed_data[idx], self.clean_data[idx]\n",
    "\n",
    "# 假設已經有 noisy_data 和 clean_data 作為音頻數據的 Mel spectrogram\n",
    "dataset = AudioDataset(mixed_data, clean_data)\n",
    "dataloader = DataLoader(dataset, batch_size=14, shuffle=True)"
   ]
  },
  {
   "cell_type": "markdown",
   "metadata": {},
   "source": [
    "### 訓練模型\n",
    "我們可以使用均方誤差（MSE）作為損失函數，並使用Adam優化器來進行模型參數的更新。"
   ]
  },
  {
   "cell_type": "code",
   "execution_count": null,
   "metadata": {},
   "outputs": [],
   "source": [
    "# 初始化模型、損失函數和優化器\n",
    "model = DenoiseAutoencoder()\n",
    "criterion = nn.MSELoss()\n",
    "optimizer = optim.Adam(model.parameters(), lr=1e-3)\n",
    "\n",
    "# 訓練過程\n",
    "num_epochs = 100\n",
    "for epoch in range(num_epochs):\n",
    "    for noisy, clean in dataloader:\n",
    "        # # 將數據搬到GPU，如果可用\n",
    "        # noisy = noisy.unsqueeze(1).float()  # 添加頻道維度\n",
    "        # clean = clean.unsqueeze(1).float()\n",
    "        \n",
    "        # print(noisy.shape)\n",
    "        # print(clean.shape)\n",
    "        \n",
    "        # 前向傳播\n",
    "        outputs = model(noisy)\n",
    "        # print(outputs.shape)\n",
    "        loss = criterion(outputs, clean)\n",
    "        \n",
    "        # 反向傳播與優化\n",
    "        optimizer.zero_grad()\n",
    "        loss.backward()\n",
    "        optimizer.step()\n",
    "    \n",
    "    print(f'Epoch [{epoch+1:02d}/{num_epochs}], Loss: {loss.item():.4f}')"
   ]
  },
  {
   "cell_type": "markdown",
   "metadata": {},
   "source": [
    "### 應用模型\n",
    "當訓練結束後，你可以將新的嘈雜音頻輸入到模型中，輸出去噪後的乾淨音頻。"
   ]
  },
  {
   "cell_type": "code",
   "execution_count": null,
   "metadata": {},
   "outputs": [],
   "source": [
    "# 应用模型\n",
    "model.eval()  # 设置模型为评估模式\n",
    "\n",
    "# 假设 denoised_output 的形状为 (batch_size, 80, 376)\n",
    "# denoised_output = model(mixed_data[0])\n",
    "waveform_test, sample_rate = torchaudio.load(\"test_mixed.wav\")\n",
    "waveform_test_mono = waveform_test.mean(dim = 0, keepdim = True)\n",
    "mel_spectrogram_test = mel_spectrogram_transform(waveform_test_mono)\n",
    "denoised_output = model(mel_spectrogram_test)  # 添加批次和通道维度\n",
    "\n",
    "print(\"去噪后的输出形状:\", denoised_output.shape)\n",
    "\n",
    "# 进行逆梅尔变换\n",
    "# 确保 denoised_output 的形状和类型正确\n",
    "denoised_output = denoised_output.squeeze(0).float()  # 移除单通道维度并转换为浮点型\n",
    "\n",
    "inverse_melscale = torchaudio.transforms.InverseMelScale(\n",
    "    n_stft = (n_fft // 2) + 1,   # 计算 STFT 的大小\n",
    "    n_mels = n_mels,             # 确保与 denoised_output 的通道数一致\n",
    "    sample_rate = sample_rate,   # 采样率\n",
    "    f_min = 0,                   # 最小频率\n",
    "    f_max = sample_rate / 2      # 最大频率\n",
    ")\n",
    "\n",
    "# 执行逆梅尔变换\n",
    "reconstructed_stft = inverse_melscale(denoised_output)\n",
    "\n",
    "# 使用 Griffin-Lim 重建波形\n",
    "griffin_lim = torchaudio.transforms.GriffinLim(n_fft=n_fft, n_iter=32)\n",
    "denoised_waveform = griffin_lim(reconstructed_stft)\n",
    "\n",
    "# 将 denoised_waveform 转换为 2D 张量 (1, n_samples) 以符合保存要求\n",
    "# 这里我们假设需要保存第一个批次的输出\n",
    "if denoised_waveform.dim() == 1:\n",
    "    denoised_waveform = denoised_waveform.unsqueeze(0).float()\n",
    "    print(\"denoised_waveform shape:\", denoised_waveform.shape)\n",
    "\n",
    "# 确保 denoised_waveform 是一个不需要梯度的张量\n",
    "denoised_waveform = denoised_waveform.detach()  # 创建一个不需要梯度的副本\n",
    "\n",
    "# 保存音频\n",
    "torchaudio.save(\"denoised_output.wav\", denoised_waveform, sample_rate)  # 确保输出为 [1, n_samples]\n",
    "print(\"去噪后的音频已保存为 'denoised_output.wav'\")\n",
    "\n",
    "# 模型架构检查\n",
    "print(\"\\n模型架构:\")\n",
    "print(model)"
   ]
  }
 ],
 "metadata": {
  "kernelspec": {
   "display_name": "Python 3",
   "language": "python",
   "name": "python3"
  },
  "language_info": {
   "codemirror_mode": {
    "name": "ipython",
    "version": 3
   },
   "file_extension": ".py",
   "mimetype": "text/x-python",
   "name": "python",
   "nbconvert_exporter": "python",
   "pygments_lexer": "ipython3",
   "version": "3.12.7"
  }
 },
 "nbformat": 4,
 "nbformat_minor": 2
}
