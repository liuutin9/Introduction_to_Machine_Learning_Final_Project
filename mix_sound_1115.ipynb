{
 "cells": [
  {
   "cell_type": "markdown",
   "metadata": {},
   "source": [
    "### 11/15 sound mix program\n",
    "- Three noise classses: human, machine, nature\n",
    "- Each class contains clean folder (ted voice) & mixed folder (voice+noise)"
   ]
  },
  {
   "cell_type": "markdown",
   "metadata": {},
   "source": [
    "### 使用步驟\n",
    "- STEP1 : 下載NOISE音檔並解壓縮，存至 /noise/raw data\n",
    "- STEP2 : 下載VOICE音檔並解壓縮，存至 /voice/raw data\n",
    "- STEP3 : write info into /download.csv\n",
    "- STEP4 : MIX DATA\n",
    "- STEP5 : UPDATE CONSTANT"
   ]
  },
  {
   "cell_type": "code",
   "execution_count": 2,
   "metadata": {},
   "outputs": [],
   "source": [
    "import librosa \n",
    "import librosa.display \n",
    "from pydub import AudioSegment\n",
    "import numpy as np\n",
    "import pandas as pd\n",
    "#AudioSegment.ffmpeg = \"ffmpeg-7.1-essentials_build\"\n",
    "#AudioSegment.converter = \"ffmpeg.exe\""
   ]
  },
  {
   "cell_type": "markdown",
   "metadata": {},
   "source": [
    "### Change if you need"
   ]
  },
  {
   "cell_type": "code",
   "execution_count": null,
   "metadata": {},
   "outputs": [],
   "source": [
    "VOICE_INDEX_USED_ALREADY = 99 ### UPDATE\n",
    "#NOISE_INDEX_USED_ALREADY = 10\n",
    "VOICE_SLICE_NUM = 100\n",
    "VOICE_BEGIN_AT = 39000\n",
    "VOICE_INTERVAL = 8000\n",
    "VOICE_LENGTH = 5000\n",
    "TO_ONE_SEC = 1000\n",
    "\n",
    "MY_PATH = \"C:\\\\Users\\\\USER\\\\Desktop\\\\ML_proj\\\\Introduction_to_Machine_Learning_Final_Project\"\n",
    "NOISE_CLASS = \"\\\\human\"\n",
    "VOICE_NAME = \"\\\\\""
   ]
  },
  {
   "cell_type": "markdown",
   "metadata": {},
   "source": [
    "# Slice voice into 5s"
   ]
  },
  {
   "cell_type": "code",
   "execution_count": null,
   "metadata": {},
   "outputs": [],
   "source": [
    "row_voice = AudioSegment.from_mp3(r\"\"+ MY_PATH + NOISE_CLASS +\"\\\\voice\\\\raw_data\" + VOICE_NAME)\n",
    "for i in range(VOICE_INDEX_USED_ALREADY + 1, VOICE_INDEX_USED_ALREADY + VOICE_SLICE_NUM + 1):\n",
    "    voice_5s = row_voice[VOICE_BEGIN_AT + i * VOICE_INTERVAL : VOICE_BEGIN_AT + i * VOICE_INTERVAL + VOICE_LENGTH]\n",
    "    voice_5s.export(MY_PATH + NOISE_CLASS + '\\\\clean\\\\' + str(i) + '.wav', format = 'wav')"
   ]
  },
  {
   "cell_type": "markdown",
   "metadata": {},
   "source": [
    "# Mix data"
   ]
  },
  {
   "cell_type": "code",
   "execution_count": null,
   "metadata": {},
   "outputs": [
    {
     "name": "stdout",
     "output_type": "stream",
     "text": [
      "    ID categories      FID  begin   end  adjustment\n",
      "0    1  transport  7066070    3.0   8.0           6\n",
      "1    2  transport  7065128    0.0   5.0          10\n",
      "2    3  transport  7065119    0.0   5.0           2\n",
      "3    4  transport  7065116    6.0  11.0           0\n",
      "4    5  transport  7065113    2.0   7.0           0\n",
      "5    6  transport  7068076    5.0  10.0           6\n",
      "6    7  transport  7066120    4.0   9.0           0\n",
      "7    8  transport  7000072    1.0   6.0           0\n",
      "8    9  transport  7000004    0.5   5.5           0\n",
      "9   10  transport  7004331    0.5   5.5           0\n",
      "10  11  transport  7006078    8.0  13.0           0\n"
     ]
    }
   ],
   "source": [
    "row_noise_file = pd.read_csv('download.csv', sep='\\t', on_bad_lines='skip')\n",
    "noise_file = row_noise_file.drop(columns = 'name')\n",
    "print(noise_file)\n",
    "fid = noise_file['FID'].values\n",
    "noise_filepath = []\n",
    "for i in fid:\n",
    "    noise_filepath.append(r\"\"+ MY_PATH + NOISE_CLASS + '\\\\noise\\\\raw_data\\\\' + str(i) + '.wav')\n",
    "#print(noise_filepath)\n",
    "begin = noise_file['begin'].values * TO_ONE_SEC\n",
    "end = noise_file['end'].values * TO_ONE_SEC\n",
    "#print(begin)\n",
    "#print(end)\n",
    "adjustment = noise_file['adjustment'].values"
   ]
  },
  {
   "cell_type": "code",
   "execution_count": null,
   "metadata": {},
   "outputs": [],
   "source": [
    "# voice_filepath = [r'C:\\Users\\User\\Desktop\\ML_final\\voice\\data\\voice_1.wav']"
   ]
  },
  {
   "cell_type": "code",
   "execution_count": 5,
   "metadata": {},
   "outputs": [],
   "source": [
    "def boost_5s_noise(filepath, begin, end, boost, storepath):\n",
    "    row_noise = AudioSegment.from_mp3(filepath)#(r\"C:\\Users\\User\\Desktop\\ML_final\\noise\\raw data\\noise_1.mp3\")\n",
    "    #voice_data = AudioSegment.from_wav(\"1.wav\")\n",
    "    noise_5s_boost = row_noise[begin:end] + boost#[3000:8000] + 6\n",
    "    noise_5s_boost.export(storepath, format = 'wav')#(r\"C:\\Users\\User\\Desktop\\ML_final\\noise\\data\\noise_1.wav\", format = 'wav')\n",
    "    return noise_5s_boost"
   ]
  },
  {
   "cell_type": "code",
   "execution_count": null,
   "metadata": {},
   "outputs": [],
   "source": [
    "### NO USE!!!\n",
    "def five_s_voice(filepath, begin, end, storepath):\n",
    "    row_voice = AudioSegment.from_mp3(filepath)#(r\"C:\\Users\\User\\Desktop\\ML_final\\voice\\raw data\\ted.mp3\")\n",
    "    #voice_data = AudioSegment.from_wav(\"1.wav\")\n",
    "    voice_5s = row_voice[begin:end]\n",
    "    voice_5s.export(storepath, format = 'wav')#(r\"C:\\Users\\User\\Desktop\\ML_final\\voice\\data\\voice_1.wav\", format = 'wav')\n",
    "    return voice_5s"
   ]
  },
  {
   "cell_type": "code",
   "execution_count": null,
   "metadata": {},
   "outputs": [],
   "source": [
    "def mix(noise_data, voice_data, storepath):\n",
    "    #noise_data = AudioSegment.from_wav(noise_filepath)#(r'C:\\Users\\User\\Desktop\\ML_final\\noise\\data\\noise_1.wav')\n",
    "    #voice_data = AudioSegment.from_wav(voice_filepath)#(r'C:\\Users\\User\\Desktop\\ML_final\\voice\\data\\voice_1.wav')\n",
    "    noise = noise_data[0:VOICE_LENGTH]#[4000:9000]\n",
    "    voice = voice_data[0:VOICE_LENGTH]#[7000:12000]\n",
    "    combined_sound = voice.overlay(noise)\n",
    "    combined_sound.export(storepath, format = 'wav')#(r'C:\\Users\\User\\Desktop\\ML_final\\sound\\1_1.wav', format = 'wav')\n",
    "    return combined_sound"
   ]
  },
  {
   "cell_type": "code",
   "execution_count": null,
   "metadata": {},
   "outputs": [],
   "source": [
    "num_noise = len(noise_filepath)\n",
    "# num_voice = len(voice_filepath)\n",
    "for clean_idx in range(VOICE_INDEX_USED_ALREADY + 1, VOICE_INDEX_USED_ALREADY + VOICE_SLICE_NUM + 1):\n",
    "    #voice = five_s_voice(voice_filepath[i], begin[i], end[i], 'C:\\\\Users\\\\User\\\\Desktop\\\\ML_final\\\\voice\\\\data\\\\' + str(i) + '.wav')\n",
    "    noise_idx = int (clean_idx / num_noise)\n",
    "    noise = boost_5s_noise(noise_filepath[noise_idx], begin[noise_idx], end[noise_idx], adjustment[noise_idx], MY_PATH + NOISE_CLASS + '\\\\noise\\\\data\\\\' + str(noise_idx) + '.wav')\n",
    "    voice = AudioSegment.from_wav(MY_PATH + NOISE_CLASS + '\\\\clean\\\\' + str(clean_idx) + '.wav')\n",
    "    # voice.export((MY_PATH + NOISE_CLASS + '\\\\clean\\\\' + str(clean_idx)'.wav'), format = 'wav')\n",
    "    combined_sound = mix(noise, voice, MY_PATH + NOISE_CLASS + '\\\\mixed\\\\' + str(clean_idx) + '.wav')\n",
    "    \n",
    "# for i in range(num_noise):\n",
    "#     noise = boost_5s_noise(noise_filepath[i], begin[i], end[i], adjustment[i], MY_PATH + NOISE_CLASS + '\\\\noise\\\\data\\\\' + str(i) + '.wav')\n",
    "#     for clean_idx in range(VOICE_INDEX_USED_ALREADY + 1, VOICE_INDEX_USED_ALREADY + VOICE_SLICE_NUM + 1):\n",
    "#         #voice = five_s_voice(voice_filepath[i], begin[i], end[i], 'C:\\\\Users\\\\User\\\\Desktop\\\\ML_final\\\\voice\\\\data\\\\' + str(i) + '.wav')\n",
    "#         voice = AudioSegment.from_wav(MY_PATH + NOISE_CLASS + '\\\\voice\\\\data\\\\' + str(clean_idx) + '.wav')\n",
    "#         voice.export((MY_PATH + NOISE_CLASS + '\\\\clean\\\\' + str(i) + '_' + str(clean_idx) + '.wav'), format = 'wav')\n",
    "#         combined_sound = mix(noise, voice, MY_PATH + NOISE_CLASS + '\\\\mixed\\\\' + str(i) + '_' + str(clean_idx) + '.wav')"
   ]
  }
 ],
 "metadata": {
  "kernelspec": {
   "display_name": "Python 3",
   "language": "python",
   "name": "python3"
  },
  "language_info": {
   "codemirror_mode": {
    "name": "ipython",
    "version": 3
   },
   "file_extension": ".py",
   "mimetype": "text/x-python",
   "name": "python",
   "nbconvert_exporter": "python",
   "pygments_lexer": "ipython3",
   "version": "3.12.0"
  }
 },
 "nbformat": 4,
 "nbformat_minor": 2
}
